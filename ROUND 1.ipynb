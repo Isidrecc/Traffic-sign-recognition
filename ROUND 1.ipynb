{
 "cells": [
  {
   "cell_type": "markdown",
   "metadata": {},
   "source": [
    "# GERMAN DATASET WITH TENSORFLOW"
   ]
  },
  {
   "cell_type": "markdown",
   "metadata": {},
   "source": [
    "VAMOS A IMPLEMENTAR EL SIGUIENTE MODELO:  \n",
    "LINEAR --> RELU \n",
    "Una única capa de 43 nodos igual al número de categorias"
   ]
  },
  {
   "cell_type": "markdown",
   "metadata": {},
   "source": [
    "Las referencias utilizadas para esta hoja son:\n",
    "+ Curso de deep neural networks de Andrw NG\n",
    "+ Artículo sobre reconocimiento de imágenes de Walled Abdulla"
   ]
  },
  {
   "cell_type": "markdown",
   "metadata": {},
   "source": [
    "## PREPARANDO EL DATASET"
   ]
  },
  {
   "cell_type": "markdown",
   "metadata": {},
   "source": [
    "El primer paso es preparar el DATASET para poder aplicar el DataFrame Tensorflow en el."
   ]
  },
  {
   "cell_type": "code",
   "execution_count": 1,
   "metadata": {},
   "outputs": [],
   "source": [
    "import os\n",
    "import random\n",
    "import skimage.data\n",
    "import skimage.transform\n",
    "import matplotlib\n",
    "import matplotlib.pyplot as plt\n",
    "import numpy as np\n",
    "import tensorflow as tf\n",
    "import pandas as pd\n",
    "import csv\n",
    "\n",
    "# Allow image embeding in notebook\n",
    "%matplotlib inline"
   ]
  },
  {
   "cell_type": "code",
   "execution_count": 2,
   "metadata": {},
   "outputs": [],
   "source": [
    "def load_data(data_dir):\n",
    "    directories = [d for d in os.listdir(data_dir) \n",
    "                   if os.path.isdir(os.path.join(data_dir, d))]\n",
    "\n",
    "    labels = []\n",
    "    images = []\n",
    "    #print(directories)\n",
    "    for d in directories:\n",
    "        label_dir = os.path.join(data_dir, d)\n",
    "        file_names = [os.path.join(label_dir, f) \n",
    "                      for f in os.listdir(label_dir) if f.endswith(\".ppm\")]\n",
    "        for f in file_names:\n",
    "            images.append(skimage.data.imread(f))\n",
    "            labels.append(int(d))\n",
    "    \n",
    "    #print(label_dir)\n",
    "    return images, labels"
   ]
  },
  {
   "cell_type": "code",
   "execution_count": 3,
   "metadata": {},
   "outputs": [],
   "source": [
    "train_data_dir = \".\\\\data\\\\Training\"            \n",
    "X_train_orig, Y_train_orig = load_data(train_data_dir)\n",
    "#print(Y_train_orig)"
   ]
  },
  {
   "cell_type": "code",
   "execution_count": 4,
   "metadata": {},
   "outputs": [],
   "source": [
    "def load_test_data (data_dir):\n",
    "    labels  = []\n",
    "    labels2 =[]\n",
    "    images = []\n",
    "    \n",
    "    with open('GT-final_test.csv', 'r') as f:\n",
    "      reader = csv.reader(f)\n",
    "      labels = list(reader)\n",
    "    #print(labels)\n",
    "    for d in range(1,len(labels)):\n",
    "        labels2.append(int(labels[d][0]))\n",
    "    #print(len(labels))\n",
    "    \n",
    "    file_names = [os.path.join(data_dir, f) \n",
    "                  for f in os.listdir(data_dir) if f.endswith(\".ppm\")]\n",
    "    for f in file_names:\n",
    "        images.append(skimage.data.imread(f))\n",
    "    \n",
    "    return images,labels2"
   ]
  },
  {
   "cell_type": "code",
   "execution_count": 5,
   "metadata": {},
   "outputs": [],
   "source": [
    "test_data_dir = \".\\\\data\\\\Testing\" \n",
    "X_test_orig, Y_test_orig = load_test_data(test_data_dir)"
   ]
  },
  {
   "cell_type": "code",
   "execution_count": 6,
   "metadata": {},
   "outputs": [
    {
     "name": "stdout",
     "output_type": "stream",
     "text": [
      "ARRAY DE LABELS TRAIN\n",
      "Tipo de objeto Python:  <class 'list'>\n",
      "Número de imágenes totales:  39209\n",
      "Número de clases totales:  43\n"
     ]
    }
   ],
   "source": [
    "print(\"ARRAY DE LABELS TRAIN\")\n",
    "print(\"Tipo de objeto Python: \" , type(Y_train_orig))\n",
    "print(\"Número de imágenes totales: \", len(Y_train_orig))\n",
    "print(\"Número de clases totales: \", len(set(Y_train_orig)))"
   ]
  },
  {
   "cell_type": "code",
   "execution_count": 7,
   "metadata": {},
   "outputs": [
    {
     "name": "stdout",
     "output_type": "stream",
     "text": [
      "ARRAY DE IMÁGENES TRAIN\n",
      "Tipo de objeto Python:  <class 'list'>\n",
      "Número de imágenes totales:  39209\n",
      "Dimensiones de la primera imagen:  (30, 29, 3)\n",
      "Parámetros RGB del primer pixel:  [75 78 80]\n"
     ]
    }
   ],
   "source": [
    "print(\"ARRAY DE IMÁGENES TRAIN\")\n",
    "print(\"Tipo de objeto Python: \",type(X_train_orig))\n",
    "print(\"Número de imágenes totales: \",len(X_train_orig))\n",
    "print(\"Dimensiones de la primera imagen: \", X_train_orig[0].shape)\n",
    "print(\"Parámetros RGB del primer pixel: \", X_train_orig[0][0][0])"
   ]
  },
  {
   "cell_type": "code",
   "execution_count": 8,
   "metadata": {},
   "outputs": [
    {
     "name": "stdout",
     "output_type": "stream",
     "text": [
      "ARRAY DE LABELS TEST\n",
      "Tipo de objeto Python:  <class 'list'>\n",
      "Número de imágenes totales:  12630\n",
      "Número de clases totales:  43\n"
     ]
    }
   ],
   "source": [
    "print(\"ARRAY DE LABELS TEST\")\n",
    "print(\"Tipo de objeto Python: \" , type(Y_test_orig))\n",
    "print(\"Número de imágenes totales: \", len(Y_test_orig))\n",
    "print(\"Número de clases totales: \", len(set(Y_test_orig)))"
   ]
  },
  {
   "cell_type": "code",
   "execution_count": 9,
   "metadata": {},
   "outputs": [
    {
     "name": "stdout",
     "output_type": "stream",
     "text": [
      "ARRAY DE IMÁGENES TEST\n",
      "Tipo de objeto Python:  <class 'list'>\n",
      "Número de imágenes totales:  12630\n",
      "Dimensiones de la primera imagen:  (54, 53, 3)\n",
      "Parámetros RGB del primer pixel:  [115 138 173]\n"
     ]
    }
   ],
   "source": [
    "print(\"ARRAY DE IMÁGENES TEST\")\n",
    "print(\"Tipo de objeto Python: \",type(X_test_orig))\n",
    "print(\"Número de imágenes totales: \",len(X_test_orig))\n",
    "print(\"Dimensiones de la primera imagen: \", X_test_orig[0].shape)\n",
    "print(\"Parámetros RGB del primer pixel: \", X_test_orig[0][0][0])"
   ]
  },
  {
   "cell_type": "markdown",
   "metadata": {},
   "source": [
    "Hasta aquí todo parece normal.  \n",
    "Faltaria redimensionar todas las imágenes a 32X32"
   ]
  },
  {
   "cell_type": "code",
   "execution_count": 10,
   "metadata": {},
   "outputs": [],
   "source": [
    "def prepare_X(X_train):\n",
    "    \n",
    "    # Resize and normalizing (RGB) images\n",
    "    X_32 = [skimage.transform.resize(image, (32, 32))\n",
    "                for image in X_train]\n",
    "    #print('X_32[0].shape',X_32[0].shape)\n",
    "    #print('32*32*3 =',32*32*3)\n",
    "    \n",
    "    \n",
    "    #convertimos la lista a un array nd\n",
    "    X_nd = np.array(X_32)\n",
    "     \n",
    "    \n",
    "    #pasamos de un array de 4 dimensiones a uno de 2\n",
    "    X_flatt = X_nd.reshape(X_nd.shape[0], -1).T\n",
    "    \n",
    "    return X_flatt"
   ]
  },
  {
   "cell_type": "code",
   "execution_count": 11,
   "metadata": {
    "scrolled": true
   },
   "outputs": [
    {
     "name": "stderr",
     "output_type": "stream",
     "text": [
      "D:\\ANACONDA\\envs\\tensorflow\\lib\\site-packages\\skimage\\transform\\_warps.py:84: UserWarning: The default mode, 'constant', will be changed to 'reflect' in skimage 0.15.\n",
      "  warn(\"The default mode, 'constant', will be changed to 'reflect' in \"\n"
     ]
    },
    {
     "name": "stdout",
     "output_type": "stream",
     "text": [
      "len(X_train_orig):  39209\n",
      "32*32*3 = 3072\n",
      "X_train.shape:  (3072, 39209)\n",
      "tenemos 39209 imágnes de 3072 pixeles --> CORRECTO \n",
      "\n",
      "len(X_test_orig):  12630\n",
      "32*32*3 = 3072\n",
      "X-test.shape:  (3072, 12630)\n",
      "tenemos 12630 imágnes de 3072 pixeles --> CORRECTO\n"
     ]
    }
   ],
   "source": [
    "#COMPROBAMOS QUE LAS DIMENSIONES SEAN CORRECTAS\n",
    "X_train=prepare_X(X_train_orig)\n",
    "print('len(X_train_orig): ',len(X_train_orig))\n",
    "print('32*32*3 =',32*32*3)\n",
    "print('X_train.shape: ',X_train.shape)\n",
    "X_test=prepare_X(X_test_orig)\n",
    "print('tenemos 39209 imágnes de 3072 pixeles --> CORRECTO \\n')\n",
    "print('len(X_test_orig): ',len(X_test_orig))\n",
    "print('32*32*3 =',32*32*3)\n",
    "print('X-test.shape: ',X_test.shape)\n",
    "print('tenemos 12630 imágnes de 3072 pixeles --> CORRECTO')"
   ]
  },
  {
   "cell_type": "code",
   "execution_count": 12,
   "metadata": {},
   "outputs": [],
   "source": [
    "def prepare_Y(Y, C):\n",
    "    \n",
    "    #convertimos a una matriz de one hot\n",
    "    Z=np.zeros((len(Y),C))\n",
    "    for i in range(len(Y)):\n",
    "        Z[i,Y[i]] = 1\n",
    "    return Z.T"
   ]
  },
  {
   "cell_type": "code",
   "execution_count": 13,
   "metadata": {},
   "outputs": [
    {
     "name": "stdout",
     "output_type": "stream",
     "text": [
      "len(Y_train_orig):  39209\n",
      "Y_train.shape:  (43, 39209)\n",
      "tenemos 43 categorias y 39209 imágenes --> CORRECTO\n",
      "\n",
      "len(Y_test_orig):  12630\n",
      "Y_test.shape:  (43, 12630)\n",
      "tenemos 43 categorias y 12630 imágenes --> CORRECTO\n"
     ]
    }
   ],
   "source": [
    "#COMPROBAMOS QUE LAS DIMENSIONES SEAN CORRECTAS\n",
    "Y_train=prepare_Y(Y_train_orig,len(set(Y_train_orig)))\n",
    "print('len(Y_train_orig): ',len(Y_train_orig))\n",
    "print('Y_train.shape: ',Y_train.shape)\n",
    "print('tenemos 43 categorias y 39209 imágenes --> CORRECTO\\n')\n",
    "Y_test=prepare_Y(Y_test_orig,len(set(Y_train_orig)))\n",
    "print('len(Y_test_orig): ',len(Y_test_orig))\n",
    "print('Y_test.shape: ',Y_test.shape)\n",
    "print('tenemos 43 categorias y 12630 imágenes --> CORRECTO')"
   ]
  },
  {
   "cell_type": "markdown",
   "metadata": {},
   "source": [
    "## MODELO WALLED ABDULLA"
   ]
  },
  {
   "cell_type": "code",
   "execution_count": null,
   "metadata": {},
   "outputs": [],
   "source": [
    "import tensorflow as tf\n",
    "from tensorflow.python.framework import ops\n",
    "from tf_utils import load_dataset, random_mini_batches, convert_to_one_hot, predict"
   ]
  },
  {
   "cell_type": "code",
   "execution_count": null,
   "metadata": {},
   "outputs": [],
   "source": [
    "parametros_iniciales={\"n_x\":len(X_train),\n",
    "                      \"n_y\":len(Y_train),\n",
    "                      \"m\":len(X_train[0]),\n",
    "                      \"L1\":43}"
   ]
  },
  {
   "cell_type": "code",
   "execution_count": null,
   "metadata": {},
   "outputs": [],
   "source": []
  },
  {
   "cell_type": "markdown",
   "metadata": {},
   "source": [
    "## MODELO"
   ]
  },
  {
   "cell_type": "code",
   "execution_count": 14,
   "metadata": {},
   "outputs": [
    {
     "name": "stderr",
     "output_type": "stream",
     "text": [
      "D:\\ANACONDA\\envs\\tensorflow\\lib\\site-packages\\h5py\\__init__.py:36: FutureWarning: Conversion of the second argument of issubdtype from `float` to `np.floating` is deprecated. In future, it will be treated as `np.float64 == np.dtype(float).type`.\n",
      "  from ._conv import register_converters as _register_converters\n"
     ]
    }
   ],
   "source": [
    "import tensorflow as tf\n",
    "from tensorflow.python.framework import ops\n",
    "from tf_utils import load_dataset, random_mini_batches, convert_to_one_hot, predict"
   ]
  },
  {
   "cell_type": "code",
   "execution_count": 15,
   "metadata": {},
   "outputs": [],
   "source": [
    "parametros_iniciales={\"n_x\":len(X_train),\n",
    "                      \"n_y\":len(Y_train),\n",
    "                      \"m\":len(X_train[0]),\n",
    "                      \"L1\":43}"
   ]
  },
  {
   "cell_type": "code",
   "execution_count": 16,
   "metadata": {},
   "outputs": [],
   "source": [
    "\n",
    "def create_placeholders(parametros_iniciales):\n",
    "    \"\"\"\n",
    "    Creates the placeholders for the tensorflow session.\n",
    "    \n",
    "    Arguments:\n",
    "    parameters -- Python dictionary containing:\n",
    "        n_x -- scalar, size of an image vector (num_px * num_px = 32*32 * 3 = 12288)\n",
    "        n_y -- scalar, number of classes (from 0 to 62, so -> 62)\n",
    "        l1 -- scalar, dimension of the first layer\n",
    "        L2 -- scalar, dimension of the second layer\n",
    "        L3 -- scalar, dimension of the third layer\n",
    "    \n",
    "    Returns:\n",
    "    X -- placeholder for the data input, of shape [n_x, None] and dtype \"float\"\n",
    "    Y -- placeholder for the input labels, of shape [n_y, None] and dtype \"float\"\n",
    "    \n",
    "    Tips:\n",
    "    - You will use None because it let's us be flexible on the number of examples you will for the placeholders.\n",
    "      In fact, the number of examples during test/train is different.\n",
    "    \"\"\"\n",
    "\n",
    "    n_x=parametros_iniciales[\"n_x\"]\n",
    "    n_y=parametros_iniciales[\"n_y\"]\n",
    "    \n",
    "    X = tf.placeholder(tf.float32,shape=[n_x,None],name='X')\n",
    "    Y = tf.placeholder(tf.float32,shape=[n_y,None],name='Y')\n",
    "\n",
    " \n",
    "    return X, Y"
   ]
  },
  {
   "cell_type": "code",
   "execution_count": 17,
   "metadata": {},
   "outputs": [
    {
     "name": "stdout",
     "output_type": "stream",
     "text": [
      "X = Tensor(\"X:0\", shape=(3072, ?), dtype=float32)\n",
      "Y = Tensor(\"Y:0\", shape=(43, ?), dtype=float32)\n"
     ]
    }
   ],
   "source": [
    "X, Y = create_placeholders(parametros_iniciales)\n",
    "print (\"X = \" + str(X))\n",
    "print (\"Y = \" + str(Y))"
   ]
  },
  {
   "cell_type": "code",
   "execution_count": 18,
   "metadata": {},
   "outputs": [],
   "source": [
    "def initialize_parameters(parametros_iniciales):\n",
    "    \"\"\"\n",
    "    Arguments:\n",
    "    parametros_inicales -- Python dictionary containing:\n",
    "        n_x -- scalar, size of an image vector (num_px * num_px = 32*32 * 3 = 3072)\n",
    "        n_y -- scalar, number of classes (from 0 to 62, so -> 62)\n",
    "        L1 -- scalar, dimension of the first layer\n",
    "\n",
    "    \n",
    "    Returns:\n",
    "    parameters -- a dictionary of tensors containing W1, b1\n",
    "    \"\"\"\n",
    "    \n",
    "    #tf.set_random_seed(1)                   # so that your \"random\" numbers match ours\n",
    "        \n",
    "    n_x=parametros_iniciales[\"n_x\"]\n",
    "    n_y=parametros_iniciales[\"n_y\"]\n",
    "    L1=parametros_iniciales[\"L1\"]\n",
    "\n",
    "    \n",
    "    \n",
    "    \n",
    "    W1 = tf.get_variable(\"W1\", [L1,n_x], initializer = tf.contrib.layers.xavier_initializer(seed = None))\n",
    "    b1 = tf.get_variable(\"b1\", [L1,1], initializer = tf.zeros_initializer())\n",
    "\n",
    "    parameters = {\"W1\": W1,\n",
    "                  \"b1\": b1}\n",
    "    \n",
    "    return parameters"
   ]
  },
  {
   "cell_type": "code",
   "execution_count": 19,
   "metadata": {},
   "outputs": [
    {
     "name": "stdout",
     "output_type": "stream",
     "text": [
      "W1 = <tf.Variable 'W1:0' shape=(43, 3072) dtype=float32_ref>\n",
      "b1 = <tf.Variable 'b1:0' shape=(43, 1) dtype=float32_ref>\n"
     ]
    }
   ],
   "source": [
    "tf.reset_default_graph()\n",
    "with tf.Session() as sess:\n",
    "    parameters = initialize_parameters(parametros_iniciales)\n",
    "    print(\"W1 = \" + str(parameters[\"W1\"]))\n",
    "    print(\"b1 = \" + str(parameters[\"b1\"]))"
   ]
  },
  {
   "cell_type": "code",
   "execution_count": 20,
   "metadata": {},
   "outputs": [],
   "source": [
    "def forward_propagation(X, parameters):\n",
    "    \"\"\"\n",
    "    Implements the forward propagation for the model: LINEAR -> RELU -> LINEAR -> RELU -> LINEAR -> SOFTMAX\n",
    "    \n",
    "    Arguments:\n",
    "    X -- input dataset placeholder, of shape (input size, number of examples)\n",
    "    parameters -- python dictionary containing your parameters \"W1\", \"b1\", \"W2\", \"b2\", \"W3\", \"b3\"\n",
    "                  the shapes are given in initialize_parameters\n",
    "\n",
    "    Returns:\n",
    "    Z3 -- the output of the last LINEAR unit\n",
    "    \"\"\"\n",
    "    \n",
    "    # Retrieve the parameters from the dictionary \"parameters\" \n",
    "    W1 = parameters['W1']\n",
    "    b1 = parameters['b1']\n",
    "\n",
    "                                                           # Numpy Equivalents:\n",
    "    Z1 = tf.add(tf.matmul(W1,X),b1)                        # Z1 = np.dot(W1, X) + b1\n",
    "    #A1 = tf.nn.relu(Z1)\n",
    "    \n",
    "    #Implement the forward pass of the neural network. We commented for you the numpy equivalents\n",
    "    #so that you can compare the tensorflow implementation to numpy. It is important to note that\n",
    "    #the forward propagation stops at z3. The reason is that in tensorflow the last linear layer output\n",
    "    #is given as input to the function computing the loss. Therefore, you don't need a3!\n",
    "    \n",
    "    return Z1"
   ]
  },
  {
   "cell_type": "code",
   "execution_count": 21,
   "metadata": {
    "scrolled": true
   },
   "outputs": [
    {
     "name": "stdout",
     "output_type": "stream",
     "text": [
      "Z1 = Tensor(\"Add:0\", shape=(43, ?), dtype=float32)\n"
     ]
    }
   ],
   "source": [
    "tf.reset_default_graph()\n",
    "\n",
    "with tf.Session() as sess:\n",
    "    X, Y = create_placeholders(parametros_iniciales)\n",
    "    parameters = initialize_parameters(parametros_iniciales)\n",
    "    Z1 = forward_propagation(X, parameters)\n",
    "    print(\"Z1 = \" + str(Z1))"
   ]
  },
  {
   "cell_type": "code",
   "execution_count": 22,
   "metadata": {},
   "outputs": [],
   "source": [
    "def compute_cost(Z1, Y):\n",
    "    \"\"\"\n",
    "    Computes the cost\n",
    "    \n",
    "    Arguments:\n",
    "    Z3 -- output of forward propagation (output of the last LINEAR unit), of shape (6, number of examples)\n",
    "    Y -- \"true\" labels vector placeholder, same shape as Z3\n",
    "    \n",
    "    Returns:\n",
    "    cost - Tensor of the cost function\n",
    "    \"\"\"\n",
    "    #It is important to know that the \"logits\" and \"labels\" inputs of tf.nn.softmax_cross_entropy_with_logits\n",
    "    #are expected to be of shape (number of examples, num_classes). We have thus transposed Z3 and Y for you\n",
    "    # to fit the tensorflow requirement for tf.nn.softmax_cross_entropy_with_logits(...,...)\n",
    "    logits = tf.transpose(Z1)\n",
    "    labels = tf.transpose(Y)\n",
    "    \n",
    "\n",
    "    cost = tf.reduce_mean(tf.nn.softmax_cross_entropy_with_logits(logits = logits,  labels = labels))\n",
    "    \n",
    "    #print('logits',logits)\n",
    "    #print('labels',labels)\n",
    "    \n",
    "      \n",
    "    return cost"
   ]
  },
  {
   "cell_type": "code",
   "execution_count": 23,
   "metadata": {},
   "outputs": [
    {
     "name": "stdout",
     "output_type": "stream",
     "text": [
      "cost = Tensor(\"Mean:0\", shape=(), dtype=float32)\n"
     ]
    }
   ],
   "source": [
    "tf.reset_default_graph()\n",
    "\n",
    "with tf.Session() as sess:\n",
    "    X, Y = create_placeholders(parametros_iniciales)\n",
    "    parameters = initialize_parameters(parametros_iniciales)\n",
    "    Z1 = forward_propagation(X, parameters)\n",
    "    cost = compute_cost(Z1, Y)\n",
    "\n",
    "    print(\"cost = \" + str(cost))"
   ]
  },
  {
   "cell_type": "code",
   "execution_count": 24,
   "metadata": {},
   "outputs": [],
   "source": [
    "def model(X_train, Y_train, X_test, Y_test, parametros_iniciales, learning_rate = 0.001,\n",
    "          num_epochs = 300, minibatch_size = 32, print_cost = True):\n",
    "    \"\"\"\n",
    "    Implements a three-layer tensorflow neural network: LINEAR->RELU->LINEAR->RELU->LINEAR->SOFTMAX.\n",
    "    \n",
    "    Arguments:\n",
    "    X_train -- training set, of shape (input size = 12288, number of training examples = 1080)\n",
    "    Y_train -- test set, of shape (output size = 6, number of training examples = 1080)\n",
    "    X_test -- training set, of shape (input size = 12288, number of training examples = 120)\n",
    "    Y_test -- test set, of shape (output size = 6, number of test examples = 120)\n",
    "    learning_rate -- learning rate of the optimization\n",
    "    num_epochs -- number of epochs of the optimization loop\n",
    "    minibatch_size -- size of a minibatch\n",
    "    print_cost -- True to print the cost every 100 epochs\n",
    "    \n",
    "    Returns:\n",
    "    parameters -- parameters learnt by the model. They can then be used to predict.\n",
    "    \"\"\"\n",
    "    \n",
    "    ops.reset_default_graph()                         # to be able to rerun the model without overwriting tf variables\n",
    "    #tf.set_random_seed(1)                             # to keep consistent results\n",
    "    #seed = 3                                          # to keep consistent results\n",
    "    n_x= parametros_iniciales[\"n_x\"]                          # (n_x: input size, m : number of examples in the train set)\n",
    "    n_y = parametros_iniciales[\"n_y\"]                            # n_y : output size\n",
    "    m=parametros_iniciales[\"m\"]\n",
    "    costs = []                                        # To keep track of the cost\n",
    "    \n",
    "    # Create Placeholders of shape (n_x, n_y)\n",
    "    X, Y = create_placeholders(parametros_iniciales)\n",
    "\n",
    "    # Initialize parameters\n",
    "    parameters = initialize_parameters(parametros_iniciales)\n",
    "    \n",
    "    # Forward propagation: Build the forward propagation in the tensorflow graph\n",
    "    A1 = forward_propagation(X, parameters)\n",
    "    \n",
    "    # Cost function: Add cost function to tensorflow graph\n",
    "    cost = compute_cost(A1, Y)\n",
    "    \n",
    "    # Backpropagation: Define the tensorflow optimizer. Use an AdamOptimizer.\n",
    "    optimizer = tf.train.AdamOptimizer(learning_rate).minimize(cost)\n",
    "    \n",
    "    # Initialize all the variables\n",
    "    init = tf.global_variables_initializer()\n",
    "    #print('Y_train.shape',Y_train.shape)\n",
    "    #print('X_train.shape',X_train.shape)\n",
    "\n",
    "    # Start the session to compute the tensorflow graph\n",
    "    \n",
    "    with tf.Session() as sess:\n",
    "        \n",
    "        # Run the initialization\n",
    "        sess.run(init)\n",
    "        \n",
    "        # Do the training loop\n",
    "        for epoch in range(num_epochs):\n",
    "\n",
    "            epoch_cost = 0.                       # Defines a cost related to an epoch\n",
    "            num_minibatches = int(m / minibatch_size) # number of minibatches of size minibatch_size in the train set\n",
    "            #seed = seed + 1\n",
    "            minibatches = random_mini_batches(X_train, Y_train, minibatch_size)\n",
    "\n",
    "            for minibatch in minibatches:\n",
    "\n",
    "                # Select a minibatch\n",
    "                (minibatch_X, minibatch_Y) = minibatch\n",
    "                #print(minibatch_X.shape)\n",
    "                #print(minibatch_Y.shape)\n",
    "                \n",
    "                # IMPORTANT: The line that runs the graph on a minibatch.\n",
    "                # Run the session to execute the \"optimizer\" and the \"cost\", the feedict should contain a minibatch for (X,Y).\n",
    "                _ , minibatch_cost = sess.run([optimizer, cost], feed_dict={X: minibatch_X, Y: minibatch_Y})\n",
    "                \n",
    "                epoch_cost += minibatch_cost / num_minibatches\n",
    "\n",
    "            # Print the cost every epoch\n",
    "            if print_cost == True and epoch % 100 == 0:\n",
    "                print (\"Cost after epoch %i: %f\" % (epoch, epoch_cost))\n",
    "            if print_cost == True and epoch % 5 == 0:\n",
    "                costs.append(epoch_cost)\n",
    "                \n",
    "        # plot the cost\n",
    "        plt.plot(np.squeeze(costs))\n",
    "        plt.ylabel('cost')\n",
    "        plt.xlabel('iterations (per tens)')\n",
    "        plt.title(\"Learning rate =\" + str(learning_rate))\n",
    "        plt.show()\n",
    "\n",
    "        # lets save the parameters in a variable\n",
    "        parameters = sess.run(parameters)\n",
    "        print (\"Parameters have been trained!\")\n",
    "\n",
    "        # Calculate the correct predictions\n",
    "        correct_prediction = tf.equal(tf.argmax(A1), tf.argmax(Y))\n",
    "\n",
    "        # Calculate accuracy on the test set\n",
    "        accuracy = tf.reduce_mean(tf.cast(correct_prediction, \"float\"))\n",
    "\n",
    "        print (\"Train Accuracy:\", accuracy.eval({X: X_train, Y: Y_train}))\n",
    "        print (\"Test Accuracy:\", accuracy.eval({X: X_test, Y: Y_test}))\n",
    "        \n",
    "\n",
    "        \n",
    "        return parameters"
   ]
  },
  {
   "cell_type": "markdown",
   "metadata": {},
   "source": [
    "### DATASET COMPLETO"
   ]
  },
  {
   "cell_type": "markdown",
   "metadata": {},
   "source": [
    "Ejecutamos el modelo con el dataset completo."
   ]
  },
  {
   "cell_type": "code",
   "execution_count": 29,
   "metadata": {},
   "outputs": [
    {
     "name": "stdout",
     "output_type": "stream",
     "text": [
      "Cost after epoch 0: 1.720067\n",
      "Cost after epoch 100: 0.061607\n",
      "Cost after epoch 200: 0.030607\n"
     ]
    },
    {
     "data": {
      "image/png": "[encoded data removed]",
      "text/plain": [
       "<Figure size 432x288 with 1 Axes>"
      ]
     },
     "metadata": {},
     "output_type": "display_data"
    },
    {
     "name": "stdout",
     "output_type": "stream",
     "text": [
      "Parameters have been trained!\n",
      "Train Accuracy: 0.9930373\n",
      "Test Accuracy: 0.849327\n"
     ]
    }
   ],
   "source": [
    "parameters = model(X_train, Y_train, X_test, Y_test, parametros_iniciales)"
   ]
  },
  {
   "cell_type": "markdown",
   "metadata": {},
   "source": [
    "Le cuesta mucho calcularlo y no conseguimos gran accuracy"
   ]
  },
  {
   "cell_type": "code",
   "execution_count": 28,
   "metadata": {},
   "outputs": [
    {
     "name": "stdout",
     "output_type": "stream",
     "text": [
      "Cost after epoch 0: 29.720930\n",
      "Cost after epoch 100: 4.405582\n"
     ]
    },
    {
     "data": {
      "image/png": "[encoded data removed]",
      "text/plain": [
       "<Figure size 432x288 with 1 Axes>"
      ]
     },
     "metadata": {},
     "output_type": "display_data"
    },
    {
     "name": "stdout",
     "output_type": "stream",
     "text": [
      "Parameters have been trained!\n",
      "Train Accuracy: 0.97197074\n",
      "Test Accuracy: 0.8442597\n"
     ]
    }
   ],
   "source": [
    "parameters = model(X_train, Y_train, X_test, Y_test, parametros_iniciales, learning_rate = 0.1, num_epochs = 200, minibatch_size = 32)"
   ]
  },
  {
   "cell_type": "code",
   "execution_count": null,
   "metadata": {},
   "outputs": [],
   "source": []
  }
 ],
 "metadata": {
  "kernelspec": {
   "display_name": "Python 3",
   "language": "python",
   "name": "python3"
  },
  "language_info": {
   "codemirror_mode": {
    "name": "ipython",
    "version": 3
   },
   "file_extension": ".py",
   "mimetype": "text/x-python",
   "name": "python",
   "nbconvert_exporter": "python",
   "pygments_lexer": "ipython3",
   "version": "3.6.4"
  }
 },
 "nbformat": 4,
 "nbformat_minor": 2
}
