{
 "cells": [
  {
   "cell_type": "markdown",
   "metadata": {},
   "source": [
    "## BELGIUM TSC WITH TENSOR FLOW CNN\n"
   ]
  },
  {
   "cell_type": "markdown",
   "metadata": {},
   "source": [
    "Vamos a implementar la Neural Network del artículo de Walled Abdulla"
   ]
  },
  {
   "cell_type": "markdown",
   "metadata": {},
   "source": [
    "## UPLOADING EL DATASET"
   ]
  },
  {
   "cell_type": "markdown",
   "metadata": {},
   "source": [
    "Vamos a subir el dataset en una Python list"
   ]
  },
  {
   "cell_type": "code",
   "execution_count": 1,
   "metadata": {},
   "outputs": [],
   "source": [
    "import os\n",
    "import random\n",
    "import skimage.data\n",
    "import skimage.transform\n",
    "import matplotlib\n",
    "import matplotlib.pyplot as plt\n",
    "import numpy as np\n",
    "import tensorflow as tf\n",
    "import pandas as pd\n",
    "import csv\n",
    "\n",
    "# Allow image embeding in notebook\n",
    "%matplotlib inline"
   ]
  },
  {
   "cell_type": "code",
   "execution_count": 2,
   "metadata": {},
   "outputs": [],
   "source": [
    "def load_data(data_dir):\n",
    "    directories = [d for d in os.listdir(data_dir) \n",
    "                   if os.path.isdir(os.path.join(data_dir, d))]\n",
    "\n",
    "    labels = []\n",
    "    images = []\n",
    "    for d in directories:\n",
    "        label_dir = os.path.join(data_dir, d)\n",
    "        file_names = [os.path.join(label_dir, f) \n",
    "                      for f in os.listdir(label_dir) if f.endswith(\".ppm\")]\n",
    "        for f in file_names:\n",
    "            images.append(skimage.data.imread(f))\n",
    "            labels.append(int(d))\n",
    "    \n",
    "    return images, labels"
   ]
  },
  {
   "cell_type": "code",
   "execution_count": 3,
   "metadata": {},
   "outputs": [],
   "source": [
    "train_data_dir = \".\\\\data\\\\Training\"            \n",
    "X_train_orig, Y_train_orig = load_data(train_data_dir)"
   ]
  },
  {
   "cell_type": "code",
   "execution_count": 4,
   "metadata": {},
   "outputs": [],
   "source": [
    "test_data_dir = \".\\\\data\\\\Testing\" \n",
    "X_test_orig, Y_test_orig = load_data(test_data_dir)"
   ]
  },
  {
   "cell_type": "code",
   "execution_count": 5,
   "metadata": {
    "scrolled": true
   },
   "outputs": [
    {
     "name": "stdout",
     "output_type": "stream",
     "text": [
      "len(X_train_orig):  4575\n",
      "len(X_train_orig[0]):  141\n",
      "len(Y_train_orig):  4575\n",
      "len(X_test_orig):  2520\n",
      "len(Y_test_orig):  2520\n"
     ]
    }
   ],
   "source": [
    "print('len(X_train_orig): ',len(X_train_orig))\n",
    "print('len(X_train_orig[0]): ',len(X_train_orig[0]))\n",
    "print('len(Y_train_orig): ',len(Y_train_orig))\n",
    "print('len(X_test_orig): ',len(X_test_orig))\n",
    "print('len(Y_test_orig): ',len(Y_test_orig))"
   ]
  },
  {
   "cell_type": "markdown",
   "metadata": {},
   "source": [
    "Son listas Python.  \n",
    "En el archivo de Train, tenemos 4575 ejemplos (imágenes). Cada imagen tiene unas dimensiones diferentes.  \n",
    "En el archivo de Test tenemos 2520 ejemplos."
   ]
  },
  {
   "cell_type": "markdown",
   "metadata": {},
   "source": [
    "## MODELO"
   ]
  },
  {
   "cell_type": "markdown",
   "metadata": {},
   "source": [
    "Este modelo está inspirado en el de Walled Abdulla.  \n",
    "Una única capa de 62 nodos (el número de categorias)."
   ]
  },
  {
   "cell_type": "code",
   "execution_count": 6,
   "metadata": {},
   "outputs": [
    {
     "name": "stderr",
     "output_type": "stream",
     "text": [
      "D:\\ANACONDA\\envs\\tensorflow\\lib\\site-packages\\skimage\\transform\\_warps.py:84: UserWarning: The default mode, 'constant', will be changed to 'reflect' in skimage 0.15.\n",
      "  warn(\"The default mode, 'constant', will be changed to 'reflect' in \"\n"
     ]
    }
   ],
   "source": [
    "#RESIZING THE IMAGE TO 32x32\n",
    "X_train_32 = [skimage.transform.resize(image, (32, 32))\n",
    "                for image in X_train_orig]"
   ]
  },
  {
   "cell_type": "code",
   "execution_count": 7,
   "metadata": {},
   "outputs": [
    {
     "name": "stdout",
     "output_type": "stream",
     "text": [
      "len(Y_train_orig) 4575\n",
      "Y_train_WA.shape:  (4575,)\n",
      "len(X_train_orig) 4575\n",
      "X_train_WA.shape:  (4575, 32, 32, 3)\n"
     ]
    }
   ],
   "source": [
    "X_train_WA = np.array(X_train_32)\n",
    "Y_train_WA = np.array(Y_train_orig)\n",
    "print('len(Y_train_orig)',len(Y_train_orig))\n",
    "print(\"Y_train_WA.shape: \", Y_train_WA.shape)\n",
    "print('len(X_train_orig)',len(X_train_32))\n",
    "print(\"X_train_WA.shape: \", X_train_WA.shape)"
   ]
  },
  {
   "cell_type": "code",
   "execution_count": 8,
   "metadata": {},
   "outputs": [
    {
     "name": "stderr",
     "output_type": "stream",
     "text": [
      "D:\\ANACONDA\\envs\\tensorflow\\lib\\site-packages\\h5py\\__init__.py:36: FutureWarning: Conversion of the second argument of issubdtype from `float` to `np.floating` is deprecated. In future, it will be treated as `np.float64 == np.dtype(float).type`.\n",
      "  from ._conv import register_converters as _register_converters\n"
     ]
    },
    {
     "name": "stdout",
     "output_type": "stream",
     "text": [
      "WARNING:tensorflow:From D:\\ANACONDA\\envs\\tensorflow\\lib\\site-packages\\tensorflow\\python\\util\\tf_should_use.py:170: initialize_all_variables (from tensorflow.python.ops.variables) is deprecated and will be removed after 2017-03-02.\n",
      "Instructions for updating:\n",
      "Use `tf.global_variables_initializer` instead.\n",
      "images_flat:  Tensor(\"Flatten/Reshape:0\", shape=(?, 3072), dtype=float32)\n",
      "logits:  Tensor(\"fully_connected/Relu:0\", shape=(?, 62), dtype=float32)\n",
      "labels_ph Tensor(\"Placeholder_1:0\", shape=(?,), dtype=int32)\n",
      "loss:  Tensor(\"Mean:0\", shape=(), dtype=float32)\n",
      "predicted_labels:  Tensor(\"ArgMax:0\", shape=(?,), dtype=int64)\n"
     ]
    }
   ],
   "source": [
    "# Create a graph to hold the model.\n",
    "graph = tf.Graph()\n",
    "\n",
    "# Create model in the graph.\n",
    "with graph.as_default():\n",
    "    # Placeholders for inputs and labels.\n",
    "    images_ph = tf.placeholder(tf.float32, [None, 32, 32, 3])\n",
    "    labels_ph = tf.placeholder(tf.int32, [None])\n",
    "\n",
    "    # Flatten input from: [None, height, width, channels]\n",
    "    # To: [None, height * width * channels] == [None, 3072]\n",
    "    images_flat = tf.contrib.layers.flatten(images_ph)\n",
    "\n",
    "    # Fully connected layer. \n",
    "    # Generates logits of size [None, 62]\n",
    "    logits = tf.contrib.layers.fully_connected(images_flat, 62, tf.nn.relu)\n",
    "\n",
    "    # Convert logits to label indexes (int).\n",
    "    # Shape [None], which is a 1D vector of length == batch_size.\n",
    "    predicted_labels = tf.argmax(logits, 1)\n",
    "\n",
    "    # Define the loss function. \n",
    "    # Cross-entropy is a good choice for classification.\n",
    "    loss = tf.reduce_mean(tf.nn.sparse_softmax_cross_entropy_with_logits(\n",
    "        labels=labels_ph, logits=logits))\n",
    "\n",
    "     \n",
    "    # Create training op.\n",
    "    train = tf.train.AdamOptimizer(learning_rate=0.001).minimize(loss)\n",
    "\n",
    "    # And, finally, an initialization op to execute before training.\n",
    "    # TODO: rename to tf.global_variables_initializer() on TF 0.12.\n",
    "    init = tf.initialize_all_variables()\n",
    "\n",
    "\n",
    "print(\"images_flat: \", images_flat)\n",
    "print(\"logits: \", logits)\n",
    "print('labels_ph',labels_ph)\n",
    "print(\"loss: \", loss)\n",
    "print(\"predicted_labels: \", predicted_labels)"
   ]
  },
  {
   "cell_type": "code",
   "execution_count": 9,
   "metadata": {},
   "outputs": [],
   "source": [
    "# Create a session to run the graph we created.\n",
    "session = tf.Session(graph=graph)\n",
    "\n",
    "# First step is always to initialize all variables. \n",
    "# We don't care about the return value, though. It's None.\n",
    "_ = session.run([init])"
   ]
  },
  {
   "cell_type": "code",
   "execution_count": 10,
   "metadata": {},
   "outputs": [
    {
     "name": "stdout",
     "output_type": "stream",
     "text": [
      "Loss  0 :  4.2088757\n",
      "Loss  10 :  2.8372202\n",
      "Loss  20 :  2.3061311\n",
      "Loss  30 :  2.0502396\n",
      "Loss  40 :  1.8985277\n",
      "Loss  50 :  1.7971058\n",
      "Loss  60 :  1.7212753\n",
      "Loss  70 :  1.6611918\n",
      "Loss  80 :  1.6119653\n",
      "Loss  90 :  1.5705376\n",
      "Loss  100 :  1.5348762\n",
      "Loss  110 :  1.5037293\n",
      "Loss  120 :  1.4762628\n",
      "Loss  130 :  1.4517865\n",
      "Loss  140 :  1.4298087\n",
      "Loss  150 :  1.4099482\n",
      "Loss  160 :  1.3919038\n",
      "Loss  170 :  1.3754334\n",
      "Loss  180 :  1.3603325\n",
      "Loss  190 :  1.3464277\n",
      "Loss  200 :  1.3335865\n"
     ]
    }
   ],
   "source": [
    "for i in range(201):\n",
    "    _, loss_value = session.run([train, loss], \n",
    "                                feed_dict={images_ph: X_train_WA, labels_ph: Y_train_WA})\n",
    "    if i % 10 == 0:\n",
    "        print(\"Loss \",i,\": \", loss_value)"
   ]
  },
  {
   "cell_type": "code",
   "execution_count": 11,
   "metadata": {},
   "outputs": [
    {
     "name": "stderr",
     "output_type": "stream",
     "text": [
      "D:\\ANACONDA\\envs\\tensorflow\\lib\\site-packages\\skimage\\transform\\_warps.py:84: UserWarning: The default mode, 'constant', will be changed to 'reflect' in skimage 0.15.\n",
      "  warn(\"The default mode, 'constant', will be changed to 'reflect' in \"\n"
     ]
    }
   ],
   "source": [
    "# Transform the images, just like we did with the training set.\n",
    "X_test_WA = [skimage.transform.resize(image, (32, 32))\n",
    "                 for image in X_test_orig]\n",
    "Y_test_WA=np.array(Y_test_orig)"
   ]
  },
  {
   "cell_type": "code",
   "execution_count": 12,
   "metadata": {},
   "outputs": [
    {
     "name": "stdout",
     "output_type": "stream",
     "text": [
      "Accuracy: 0.733\n"
     ]
    }
   ],
   "source": [
    "# Run predictions against the full test set.\n",
    "predicted = session.run([predicted_labels], \n",
    "                        feed_dict={images_ph: X_test_WA})[0]\n",
    "\n",
    "# Calculate how many matches we got.\n",
    "match_count = sum([int(y == y_) for y, y_ in zip(Y_test_WA, predicted)])\n",
    "accuracy = match_count / len(Y_test_WA)\n",
    "print(\"Accuracy: {:.3f}\".format(accuracy))\n",
    "session.close()"
   ]
  },
  {
   "cell_type": "markdown",
   "metadata": {},
   "source": [
    "Al ser un modelo muy simple la \"accuracy\" varia mucho. Vamos a ver cuanto varía."
   ]
  },
  {
   "cell_type": "code",
   "execution_count": 13,
   "metadata": {},
   "outputs": [
    {
     "name": "stdout",
     "output_type": "stream",
     "text": [
      "Accuracy for the 0 th try: 0.44722222222222224\n",
      "Accuracy for the 1 th try: 0.6730158730158731\n",
      "Accuracy for the 2 th try: 0.6757936507936508\n",
      "Accuracy for the 3 th try: 0.5984126984126984\n",
      "Accuracy for the 4 th try: 0.5321428571428571\n",
      "Accuracy for the 5 th try: 0.515079365079365\n",
      "Accuracy for the 6 th try: 0.7186507936507937\n",
      "Accuracy for the 7 th try: 0.6083333333333333\n",
      "Accuracy for the 8 th try: 0.5845238095238096\n",
      "Accuracy for the 9 th try: 0.5638888888888889\n"
     ]
    }
   ],
   "source": [
    "for w in range(10):\n",
    "    # Create a session to run the graph we created.\n",
    "    session = tf.Session(graph=graph)\n",
    "\n",
    "    # First step is always to initialize all variables. \n",
    "    # We don't care about the return value, though. It's None.\n",
    "    _ = session.run([init])\n",
    "    for i in range(201):\n",
    "        _, loss_value = session.run([train, loss], \n",
    "                                    feed_dict={images_ph: X_train_WA, labels_ph: Y_train_WA})\n",
    "    \n",
    "    # Run predictions against the full test set.\n",
    "    predicted = session.run([predicted_labels], \n",
    "                            feed_dict={images_ph: X_test_WA})[0]\n",
    "    # Calculate how many matches we got.\n",
    "    match_count = sum([int(y == y_) for y, y_ in zip(Y_test_WA, predicted)])\n",
    "    accuracy = match_count / len(Y_test_WA)\n",
    "    print(\"Accuracy for the\",w,\"th try:\", accuracy)\n",
    "    session.close()"
   ]
  },
  {
   "cell_type": "markdown",
   "metadata": {},
   "source": [
    "Según el autor la exactitud varia entre 0.4 y 0.7 en función de si cae en un mínimo local o absoluto."
   ]
  },
  {
   "cell_type": "markdown",
   "metadata": {},
   "source": [
    "## EVALUACIÓN DEL MODELO"
   ]
  },
  {
   "cell_type": "markdown",
   "metadata": {},
   "source": [
    "Cogemos 10 imágenes del train_set al azahar.  \n",
    "Obtenemos sus predicciones.  \n",
    "Y las comparamos con sus \"labels\" correspondientes."
   ]
  },
  {
   "cell_type": "code",
   "execution_count": 14,
   "metadata": {},
   "outputs": [
    {
     "name": "stdout",
     "output_type": "stream",
     "text": [
      "train_value None\n",
      "sample_labels [37, 25, 53, 21, 32, 40, 14, 19, 38, 40]\n",
      "predicted [37 32 53 22 32 41 13 19 38 41]\n"
     ]
    }
   ],
   "source": [
    "#ANTERIORMENTE HEMOS CERRADO LA SESSION DE TENSORFLOW, AHORA TENEMOS QUE VOLVER A CARGARLO TODO\n",
    "sess = tf.Session(graph=graph)\n",
    "_ = sess.run([init])\n",
    "\n",
    "\n",
    "for i in range(201):\n",
    "    train_value, loss_value = sess.run([train, loss], \n",
    "                                feed_dict={images_ph: X_train_WA, labels_ph: Y_train_WA})\n",
    "\n",
    "#10 imágenes al azahr\n",
    "sample_indexes = random.sample(range(len(X_train_WA)),10)\n",
    "sample_images = [X_train_WA[i] for i in sample_indexes]\n",
    "sample_labels = [Y_train_WA[i] for i in sample_indexes]\n",
    "\n",
    "#predicciones de las 10 imágenes\n",
    "predicted = sess.run([predicted_labels],\n",
    "                      feed_dict={images_ph: sample_images})[0]\n",
    "\n",
    "print('train_value',train_value)\n",
    "print('sample_labels',sample_labels)\n",
    "print('predicted',predicted)"
   ]
  },
  {
   "cell_type": "code",
   "execution_count": 15,
   "metadata": {},
   "outputs": [
    {
     "data": {
      "image/png": "[encoded data removed]",
      "text/plain": [
       "<Figure size 720x720 with 10 Axes>"
      ]
     },
     "metadata": {},
     "output_type": "display_data"
    }
   ],
   "source": [
    "fig = plt.figure(figsize=(10,10))\n",
    "for i in range(len(sample_images)):\n",
    "    truth=sample_labels[i]\n",
    "    predictions = predicted[i]\n",
    "    plt.subplot(5,2,i+1)\n",
    "    plt.axis('off')\n",
    "    color='green' if truth == predictions else 'red'\n",
    "    plt.text(40,10, 'Truth:     {0}\\nPredictions=    {1}'.format(truth,predictions),\n",
    "            fontsize=12, color=color)\n",
    "    plt.imshow(sample_images[i])"
   ]
  },
  {
   "cell_type": "code",
   "execution_count": null,
   "metadata": {},
   "outputs": [],
   "source": []
  }
 ],
 "metadata": {
  "kernelspec": {
   "display_name": "Python 3",
   "language": "python",
   "name": "python3"
  },
  "language_info": {
   "codemirror_mode": {
    "name": "ipython",
    "version": 3
   },
   "file_extension": ".py",
   "mimetype": "text/x-python",
   "name": "python",
   "nbconvert_exporter": "python",
   "pygments_lexer": "ipython3",
   "version": "3.6.4"
  }
 },
 "nbformat": 4,
 "nbformat_minor": 2
}
