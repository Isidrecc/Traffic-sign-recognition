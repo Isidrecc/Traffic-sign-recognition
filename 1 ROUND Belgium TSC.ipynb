{
 "cells": [
  {
   "cell_type": "markdown",
   "metadata": {},
   "source": [
    "# BELGIUM TSC WITH TENSORFLOW"
   ]
  },
  {
   "cell_type": "markdown",
   "metadata": {},
   "source": [
    "VAMOS A IMPLEMENTAR EL SIGUIENTE MODELO:  \n",
    "LINEAR --> RELU \n",
    "Una única capa de 63 nodos igual al número de categorias"
   ]
  },
  {
   "cell_type": "markdown",
   "metadata": {},
   "source": [
    "Las referencias utilizadas para esta hoja son:\n",
    "+ Curso de deep neural networks de Andrw NG\n",
    "+ Artículo sobre reconocimiento de imágenes de Walled Abdulla"
   ]
  },
  {
   "cell_type": "markdown",
   "metadata": {},
   "source": [
    "El primer paso es preparar el DATASET para poder aplicar el DataFrame Tensorflow en el."
   ]
  },
  {
   "cell_type": "markdown",
   "metadata": {},
   "source": [
    "## PREPARANDO EL DATASET"
   ]
  },
  {
   "cell_type": "code",
   "execution_count": 5,
   "metadata": {},
   "outputs": [],
   "source": [
    "import skimage.transform\n",
    "import os\n",
    "import random\n",
    "import skimage.data\n",
    "import skimage.transform\n",
    "import matplotlib\n",
    "import matplotlib.pyplot as plt\n",
    "import numpy as np\n",
    "import tensorflow as tf\n",
    "import pandas as pd\n",
    "import csv\n",
    "from tensorflow.python.framework import ops\n",
    "from tf_utils import load_dataset, random_mini_batches, convert_to_one_hot, predict\n",
    "\n",
    "\n",
    "# Allow image embeding in notebook\n",
    "%matplotlib inline"
   ]
  },
  {
   "cell_type": "code",
   "execution_count": 6,
   "metadata": {},
   "outputs": [],
   "source": [
    "def load_data(data_dir):\n",
    "    directories = [d for d in os.listdir(data_dir) \n",
    "                   if os.path.isdir(os.path.join(data_dir, d))]\n",
    "\n",
    "    labels = []\n",
    "    images = []\n",
    "    for d in directories:\n",
    "        label_dir = os.path.join(data_dir, d)\n",
    "        file_names = [os.path.join(label_dir, f) \n",
    "                      for f in os.listdir(label_dir) if f.endswith(\".ppm\")]\n",
    "        for f in file_names:\n",
    "            images.append(skimage.data.imread(f))\n",
    "            labels.append(int(d))\n",
    "    \n",
    "    return images, labels"
   ]
  },
  {
   "cell_type": "code",
   "execution_count": 7,
   "metadata": {},
   "outputs": [],
   "source": [
    "train_data_dir = \".\\\\data\\\\Training\"            \n",
    "X_train_orig, Y_train_orig = load_data(train_data_dir)"
   ]
  },
  {
   "cell_type": "code",
   "execution_count": 8,
   "metadata": {},
   "outputs": [],
   "source": [
    "test_data_dir = \".\\\\data\\\\Testing\" \n",
    "X_test_orig, Y_test_orig = load_data(test_data_dir)"
   ]
  },
  {
   "cell_type": "markdown",
   "metadata": {},
   "source": [
    "X_nd=np.ndarray(shape=(len(X_32),len(X_32[0]),len(X_32[0]),3))\n",
    "    for m in range (len(X_32)):\n",
    "        a=X_32[0]\n",
    "        for y in range(len(X_32[0])):\n",
    "            for x in range(len(X_32[0])):\n",
    "                for c in range(3):\n",
    "                    X_nd[m,y,x,c]=a[y,x,c]"
   ]
  },
  {
   "cell_type": "code",
   "execution_count": 9,
   "metadata": {},
   "outputs": [],
   "source": [
    "def prepare_X(X_train):\n",
    "    \n",
    "    # Resize and normalizing (RGB) images\n",
    "    X_32 = [skimage.transform.resize(image, (32, 32))\n",
    "                for image in X_train]\n",
    "    #print('X_32[0].shape',X_32[0].shape)\n",
    "    #print('32*32*3 =',32*32*3)\n",
    "    \n",
    "    \n",
    "    #convertimos la lista a un array nd\n",
    "    X_nd = np.array(X_32)\n",
    "     \n",
    "    \n",
    "    #pasamos de un array de 4 dimensiones a uno de 2\n",
    "    X_flatt = X_nd.reshape(X_nd.shape[0], -1).T\n",
    "    \n",
    "    return X_flatt"
   ]
  },
  {
   "cell_type": "code",
   "execution_count": 10,
   "metadata": {},
   "outputs": [
    {
     "name": "stderr",
     "output_type": "stream",
     "text": [
      "D:\\ANACONDA\\envs\\tensorflow\\lib\\site-packages\\skimage\\transform\\_warps.py:84: UserWarning: The default mode, 'constant', will be changed to 'reflect' in skimage 0.15.\n",
      "  warn(\"The default mode, 'constant', will be changed to 'reflect' in \"\n"
     ]
    },
    {
     "name": "stdout",
     "output_type": "stream",
     "text": [
      "len(X_train_orig):  4575\n",
      "32*32*3 = 3072\n",
      "X_train.shape:  (3072, 4575)\n",
      "tenemos 4575 imágnes de 3072 pixeles --> CORRECTO \n",
      "\n",
      "len(X_test_orig):  2520\n",
      "32*32*3 = 3072\n",
      "X-test.shape:  (3072, 2520)\n",
      "tenemos 2520 imágnes de 3072 pixeles --> CORRECTO\n"
     ]
    }
   ],
   "source": [
    "#COMPROBAMOS QUE LAS DIMENSIONES SEAN CORRECTAS\n",
    "X_train=prepare_X(X_train_orig)\n",
    "print('len(X_train_orig): ',len(X_train_orig))\n",
    "print('32*32*3 =',32*32*3)\n",
    "print('X_train.shape: ',X_train.shape)\n",
    "X_test=prepare_X(X_test_orig)\n",
    "print('tenemos 4575 imágnes de 3072 pixeles --> CORRECTO \\n')\n",
    "print('len(X_test_orig): ',len(X_test_orig))\n",
    "print('32*32*3 =',32*32*3)\n",
    "print('X-test.shape: ',X_test.shape)\n",
    "print('tenemos 2520 imágnes de 3072 pixeles --> CORRECTO')"
   ]
  },
  {
   "cell_type": "code",
   "execution_count": 11,
   "metadata": {},
   "outputs": [],
   "source": [
    "def prepare_Y(Y, C):\n",
    "    \n",
    "    #convertimos a una matriz de one hot\n",
    "    Z=np.zeros((len(Y),C))\n",
    "    for i in range(len(Y)):\n",
    "        Z[i,Y[i]] = 1\n",
    "    return Z.T"
   ]
  },
  {
   "cell_type": "code",
   "execution_count": 12,
   "metadata": {},
   "outputs": [
    {
     "name": "stdout",
     "output_type": "stream",
     "text": [
      "len(Y_train_orig):  4575\n",
      "Y_train.shape:  (62, 4575)\n",
      "tenemos 62 categorias y 4575 imágenes --> CORRECTO\n",
      "\n",
      "len(Y_test_orig):  2520\n",
      "Y_test.shape:  (62, 2520)\n",
      "tenemos 62 categorias y 2520 imágenes --> CORRECTO\n"
     ]
    }
   ],
   "source": [
    "#COMPROBAMOS QUE LAS DIMENSIONES SEAN CORRECTAS\n",
    "Y_train=prepare_Y(Y_train_orig,len(set(Y_train_orig)))\n",
    "print('len(Y_train_orig): ',len(Y_train_orig))\n",
    "print('Y_train.shape: ',Y_train.shape)\n",
    "print('tenemos 62 categorias y 4575 imágenes --> CORRECTO\\n')\n",
    "Y_test=prepare_Y(Y_test_orig,len(set(Y_train_orig)))\n",
    "print('len(Y_test_orig): ',len(Y_test_orig))\n",
    "print('Y_test.shape: ',Y_test.shape)\n",
    "print('tenemos 62 categorias y 2520 imágenes --> CORRECTO')"
   ]
  },
  {
   "cell_type": "markdown",
   "metadata": {},
   "source": [
    "Las matrices ya preparadas deben tener las siguientes dimensiones:  \n",
    "X_train.shape = [(32x32x3) , 4575]  \n",
    "X_test.sahpe = [(32x32x3) , 2520]  \n",
    "Y_train.shape = (62 , 4575)  \n",
    "Y_test.shape = (62 , 2520)"
   ]
  },
  {
   "cell_type": "markdown",
   "metadata": {},
   "source": [
    "# MODELO"
   ]
  },
  {
   "cell_type": "markdown",
   "metadata": {},
   "source": [
    "En este primer round del combate aplicaremos una única capa con 62 nodos (el número de categorias).  \n",
    "Mezclamos el modelo de Walled Abdulla y el código de Andrew NG."
   ]
  },
  {
   "cell_type": "code",
   "execution_count": 13,
   "metadata": {},
   "outputs": [],
   "source": [
    "parametros_iniciales={\"n_x\":len(X_train),\n",
    "                      \"n_y\":len(Y_train),\n",
    "                      \"m\":len(X_train[0]),\n",
    "                      \"L1\":62}"
   ]
  },
  {
   "cell_type": "code",
   "execution_count": 14,
   "metadata": {},
   "outputs": [],
   "source": [
    "def create_placeholders(parametros_iniciales):\n",
    "    \"\"\"\n",
    "    Creates the placeholders for the tensorflow session.\n",
    "    \n",
    "    Arguments:\n",
    "    parameters -- Python dictionary containing:\n",
    "        n_x -- scalar, size of an image vector (num_px * num_px = 32*32 * 3 = 12288)\n",
    "        n_y -- scalar, number of classes (from 0 to 62, so -> 62)\n",
    "        l1 -- scalar, dimension of the first layer\n",
    "        L2 -- scalar, dimension of the second layer\n",
    "        L3 -- scalar, dimension of the third layer\n",
    "    \n",
    "    Returns:\n",
    "    X -- placeholder for the data input, of shape [n_x, None] and dtype \"float\"\n",
    "    Y -- placeholder for the input labels, of shape [n_y, None] and dtype \"float\"\n",
    "    \n",
    "    Tips:\n",
    "    - You will use None because it let's us be flexible on the number of examples you will for the placeholders.\n",
    "      In fact, the number of examples during test/train is different.\n",
    "    \"\"\"\n",
    "\n",
    "    n_x=parametros_iniciales[\"n_x\"]\n",
    "    n_y=parametros_iniciales[\"n_y\"]\n",
    "    \n",
    "    X = tf.placeholder(tf.float32,shape=[n_x,None],name='X')\n",
    "    Y = tf.placeholder(tf.float32,shape=[n_y,],name='Y')\n",
    "\n",
    " \n",
    "    return X, Y"
   ]
  },
  {
   "cell_type": "code",
   "execution_count": 15,
   "metadata": {},
   "outputs": [
    {
     "name": "stdout",
     "output_type": "stream",
     "text": [
      "X = Tensor(\"X:0\", shape=(3072, ?), dtype=float32)\n",
      "Y = Tensor(\"Y:0\", shape=(62,), dtype=float32)\n"
     ]
    }
   ],
   "source": [
    "X, Y = create_placeholders(parametros_iniciales)\n",
    "print (\"X = \" + str(X))\n",
    "print (\"Y = \" + str(Y))"
   ]
  },
  {
   "cell_type": "code",
   "execution_count": 22,
   "metadata": {},
   "outputs": [],
   "source": [
    "def initialize_parameters(parametros_iniciales):\n",
    "    \"\"\"\n",
    "    Arguments:\n",
    "    parametros_inicales -- Python dictionary containing:\n",
    "        n_x -- scalar, size of an image vector (num_px * num_px = 32*32 * 3 = 3072)\n",
    "        n_y -- scalar, number of classes (from 0 to 62, so -> 62)\n",
    "        L1 -- scalar, dimension of the first layer\n",
    "\n",
    "    \n",
    "    Returns:\n",
    "    parameters -- a dictionary of tensors containing W1, b1\n",
    "    \"\"\"\n",
    "    \n",
    "    #tf.set_random_seed(1)                   # so that your \"random\" numbers match ours\n",
    "        \n",
    "    n_x=parametros_iniciales[\"n_x\"]\n",
    "    n_y=parametros_iniciales[\"n_y\"]\n",
    "    L1=parametros_iniciales[\"L1\"]\n",
    "\n",
    "    \n",
    "    \n",
    "    \n",
    "    W1 = tf.get_variable(\"W1\", [L1,n_x], initializer = tf.contrib.layers.xavier_initializer(seed = None))\n",
    "    b1 = tf.get_variable(\"b1\", [L1,1], initializer = tf.zeros_initializer())\n",
    "\n",
    "    parameters = {\"W1\": W1,\n",
    "                  \"b1\": b1}\n",
    "    \n",
    "    return parameters"
   ]
  },
  {
   "cell_type": "code",
   "execution_count": 23,
   "metadata": {},
   "outputs": [
    {
     "name": "stdout",
     "output_type": "stream",
     "text": [
      "W1 = <tf.Variable 'W1:0' shape=(62, 3072) dtype=float32_ref>\n",
      "b1 = <tf.Variable 'b1:0' shape=(62, 1) dtype=float32_ref>\n"
     ]
    }
   ],
   "source": [
    "tf.reset_default_graph()\n",
    "with tf.Session() as sess:\n",
    "    parameters = initialize_parameters(parametros_iniciales)\n",
    "    print(\"W1 = \" + str(parameters[\"W1\"]))\n",
    "    print(\"b1 = \" + str(parameters[\"b1\"]))"
   ]
  },
  {
   "cell_type": "code",
   "execution_count": 24,
   "metadata": {},
   "outputs": [],
   "source": [
    "def forward_propagation(X, parameters):\n",
    "    \"\"\"\n",
    "    Implements the forward propagation for the model: LINEAR -> RELU -> LINEAR -> RELU -> LINEAR -> SOFTMAX\n",
    "    \n",
    "    Arguments:\n",
    "    X -- input dataset placeholder, of shape (input size, number of examples)\n",
    "    parameters -- python dictionary containing your parameters \"W1\", \"b1\", \"W2\", \"b2\", \"W3\", \"b3\"\n",
    "                  the shapes are given in initialize_parameters\n",
    "\n",
    "    Returns:\n",
    "    Z3 -- the output of the last LINEAR unit\n",
    "    \"\"\"\n",
    "    \n",
    "    # Retrieve the parameters from the dictionary \"parameters\" \n",
    "    W1 = parameters['W1']\n",
    "    b1 = parameters['b1']\n",
    "\n",
    "                                                           # Numpy Equivalents:\n",
    "    Z1 = tf.add(tf.matmul(W1,X),b1)                        # Z1 = np.dot(W1, X) + b1\n",
    "    #A1 = tf.nn.relu(Z1)\n",
    "    \n",
    "    #Implement the forward pass of the neural network. We commented for you the numpy equivalents\n",
    "    #so that you can compare the tensorflow implementation to numpy. It is important to note that\n",
    "    #the forward propagation stops at z3. The reason is that in tensorflow the last linear layer output\n",
    "    #is given as input to the function computing the loss. Therefore, you don't need a3!\n",
    "    \n",
    "    return Z1"
   ]
  },
  {
   "cell_type": "code",
   "execution_count": 27,
   "metadata": {
    "scrolled": true
   },
   "outputs": [
    {
     "name": "stdout",
     "output_type": "stream",
     "text": [
      "Z1 = Tensor(\"Add:0\", shape=(62, ?), dtype=float32)\n"
     ]
    }
   ],
   "source": [
    "tf.reset_default_graph()\n",
    "\n",
    "with tf.Session() as sess:\n",
    "    X, Y = create_placeholders(parametros_iniciales)\n",
    "    parameters = initialize_parameters(parametros_iniciales)\n",
    "    Z1 = forward_propagation(X, parameters)\n",
    "    print(\"Z1 = \" + str(Z1))"
   ]
  },
  {
   "cell_type": "code",
   "execution_count": 39,
   "metadata": {},
   "outputs": [],
   "source": [
    "def compute_cost(Z1, Y):\n",
    "    \"\"\"\n",
    "    Computes the cost\n",
    "    \n",
    "    Arguments:\n",
    "    Z3 -- output of forward propagation (output of the last LINEAR unit), of shape (6, number of examples)\n",
    "    Y -- \"true\" labels vector placeholder, same shape as Z3\n",
    "    \n",
    "    Returns:\n",
    "    cost - Tensor of the cost function\n",
    "    \"\"\"\n",
    "    #It is important to know that the \"logits\" and \"labels\" inputs of tf.nn.softmax_cross_entropy_with_logits\n",
    "    #are expected to be of shape (number of examples, num_classes). We have thus transposed Z3 and Y for you\n",
    "    # to fit the tensorflow requirement for tf.nn.softmax_cross_entropy_with_logits(...,...)\n",
    "    logits = tf.transpose(Z1)\n",
    "    labels = tf.transpose(Y)\n",
    "    \n",
    "\n",
    "    cost = tf.reduce_mean(tf.nn.softmax_cross_entropy_with_logits(logits = logits,  labels = labels))\n",
    "    \n",
    "    print('logiTS',logits)\n",
    "    print('labels',labels)\n",
    "    \n",
    "      \n",
    "    return cost"
   ]
  },
  {
   "cell_type": "code",
   "execution_count": 40,
   "metadata": {},
   "outputs": [
    {
     "name": "stdout",
     "output_type": "stream",
     "text": [
      "logist Tensor(\"transpose:0\", shape=(?, 62), dtype=float32)\n",
      "labels Tensor(\"transpose_1:0\", shape=(62,), dtype=float32)\n",
      "cost = Tensor(\"Mean:0\", shape=(), dtype=float32)\n"
     ]
    }
   ],
   "source": [
    "tf.reset_default_graph()\n",
    "\n",
    "with tf.Session() as sess:\n",
    "    X, Y = create_placeholders(parametros_iniciales)\n",
    "    parameters = initialize_parameters(parametros_iniciales)\n",
    "    Z1 = forward_propagation(X, parameters)\n",
    "    cost = compute_cost(Z1, Y)\n",
    "\n",
    "    print(\"cost = \" + str(cost))"
   ]
  },
  {
   "cell_type": "code",
   "execution_count": 38,
   "metadata": {},
   "outputs": [],
   "source": [
    "def model(X_train, Y_train, X_test, Y_test, parametros_iniciales, learning_rate = 0.001,\n",
    "          num_epochs = 1000, minibatch_size = 32, print_cost = True):\n",
    "    \"\"\"\n",
    "    Implements a three-layer tensorflow neural network: LINEAR->RELU->LINEAR->RELU->LINEAR->SOFTMAX.\n",
    "    \n",
    "    Arguments:\n",
    "    X_train -- training set, of shape (input size = 12288, number of training examples = 1080)\n",
    "    Y_train -- test set, of shape (output size = 6, number of training examples = 1080)\n",
    "    X_test -- training set, of shape (input size = 12288, number of training examples = 120)\n",
    "    Y_test -- test set, of shape (output size = 6, number of test examples = 120)\n",
    "    learning_rate -- learning rate of the optimization\n",
    "    num_epochs -- number of epochs of the optimization loop\n",
    "    minibatch_size -- size of a minibatch\n",
    "    print_cost -- True to print the cost every 100 epochs\n",
    "    \n",
    "    Returns:\n",
    "    parameters -- parameters learnt by the model. They can then be used to predict.\n",
    "    \"\"\"\n",
    "    \n",
    "    ops.reset_default_graph()                         # to be able to rerun the model without overwriting tf variables\n",
    "    #tf.set_random_seed(1)                             # to keep consistent results\n",
    "    #seed = 3                                          # to keep consistent results\n",
    "    n_x= parametros_iniciales[\"n_x\"]                          # (n_x: input size, m : number of examples in the train set)\n",
    "    n_y = parametros_iniciales[\"n_y\"]                            # n_y : output size\n",
    "    m=parametros_iniciales[\"m\"]\n",
    "    costs = []                                        # To keep track of the cost\n",
    "    \n",
    "    # Create Placeholders of shape (n_x, n_y)\n",
    "    X, Y = create_placeholders(parametros_iniciales)\n",
    "\n",
    "    # Initialize parameters\n",
    "    parameters = initialize_parameters(parametros_iniciales)\n",
    "    \n",
    "    # Forward propagation: Build the forward propagation in the tensorflow graph\n",
    "    A1 = forward_propagation(X, parameters)\n",
    "    \n",
    "    # Cost function: Add cost function to tensorflow graph\n",
    "    cost = compute_cost(A1, Y)\n",
    "    \n",
    "    # Backpropagation: Define the tensorflow optimizer. Use an AdamOptimizer.\n",
    "    optimizer = tf.train.AdamOptimizer(learning_rate).minimize(cost)\n",
    "    \n",
    "    # Initialize all the variables\n",
    "    init = tf.global_variables_initializer()\n",
    "    #print('Y_train.shape',Y_train.shape)\n",
    "    #print('X_train.shape',X_train.shape)\n",
    "\n",
    "    # Start the session to compute the tensorflow graph\n",
    "    \n",
    "    with tf.Session() as sess:\n",
    "        \n",
    "        # Run the initialization\n",
    "        sess.run(init)\n",
    "        \n",
    "        # Do the training loop\n",
    "        for epoch in range(num_epochs):\n",
    "\n",
    "            epoch_cost = 0.                       # Defines a cost related to an epoch\n",
    "            num_minibatches = int(m / minibatch_size) # number of minibatches of size minibatch_size in the train set\n",
    "            #seed = seed + 1\n",
    "            minibatches = random_mini_batches(X_train, Y_train, minibatch_size)\n",
    "\n",
    "            for minibatch in minibatches:\n",
    "\n",
    "                # Select a minibatch\n",
    "                (minibatch_X, minibatch_Y) = minibatch\n",
    "                #print(minibatch_X.shape)\n",
    "                \n",
    "                # IMPORTANT: The line that runs the graph on a minibatch.\n",
    "                # Run the session to execute the \"optimizer\" and the \"cost\", the feedict should contain a minibatch for (X,Y).\n",
    "                _ , minibatch_cost = sess.run([optimizer, cost], feed_dict={X: minibatch_X, Y: minibatch_Y})\n",
    "                \n",
    "                epoch_cost += minibatch_cost / num_minibatches\n",
    "\n",
    "            # Print the cost every epoch\n",
    "            if print_cost == True and epoch % 100 == 0:\n",
    "                print (\"Cost after epoch %i: %f\" % (epoch, epoch_cost))\n",
    "            if print_cost == True and epoch % 5 == 0:\n",
    "                costs.append(epoch_cost)\n",
    "                \n",
    "        # plot the cost\n",
    "        plt.plot(np.squeeze(costs))\n",
    "        plt.ylabel('cost')\n",
    "        plt.xlabel('iterations (per tens)')\n",
    "        plt.title(\"Learning rate =\" + str(learning_rate))\n",
    "        plt.show()\n",
    "\n",
    "        # lets save the parameters in a variable\n",
    "        parameters = sess.run(parameters)\n",
    "        print (\"Parameters have been trained!\")\n",
    "\n",
    "        # Calculate the correct predictions\n",
    "        correct_prediction = tf.equal(tf.argmax(Z3), tf.argmax(Y))\n",
    "\n",
    "        # Calculate accuracy on the test set\n",
    "        accuracy = tf.reduce_mean(tf.cast(correct_prediction, \"float\"))\n",
    "\n",
    "        print (\"Train Accuracy:\", accuracy.eval({X: X_train, Y: Y_train}))\n",
    "        print (\"Test Accuracy:\", accuracy.eval({X: X_test, Y: Y_test}))\n",
    "        \n",
    "\n",
    "        \n",
    "        return parameters"
   ]
  },
  {
   "cell_type": "markdown",
   "metadata": {},
   "source": [
    "# DATASET COMPLETO"
   ]
  },
  {
   "cell_type": "markdown",
   "metadata": {},
   "source": [
    "Ejecutamos el modelo con el dataset completo, las 32 categorias."
   ]
  },
  {
   "cell_type": "code",
   "execution_count": 29,
   "metadata": {},
   "outputs": [
    {
     "name": "stdout",
     "output_type": "stream",
     "text": [
      "62\n"
     ]
    }
   ],
   "source": [
    "print(len(Y_train))"
   ]
  },
  {
   "cell_type": "code",
   "execution_count": 40,
   "metadata": {},
   "outputs": [],
   "source": [
    "parametros_iniciales={\"n_x\":len(X_train),\n",
    "                      \"n_y\":len(Y_train),\n",
    "                      \"m\":len(X_train[0]),\n",
    "                      \"L1\":62}\n"
   ]
  },
  {
   "cell_type": "code",
   "execution_count": 41,
   "metadata": {},
   "outputs": [
    {
     "name": "stdout",
     "output_type": "stream",
     "text": [
      "Cost after epoch 0: 4.125371\n",
      "Cost after epoch 100: 4.118964\n"
     ]
    },
    {
     "ename": "KeyboardInterrupt",
     "evalue": "",
     "output_type": "error",
     "traceback": [
      "\u001b[1;31m---------------------------------------------------------------------------\u001b[0m",
      "\u001b[1;31mKeyboardInterrupt\u001b[0m                         Traceback (most recent call last)",
      "\u001b[1;32m<ipython-input-41-3d63809312b7>\u001b[0m in \u001b[0;36m<module>\u001b[1;34m()\u001b[0m\n\u001b[1;32m----> 1\u001b[1;33m \u001b[0mparameters\u001b[0m \u001b[1;33m=\u001b[0m \u001b[0mmodel\u001b[0m\u001b[1;33m(\u001b[0m\u001b[0mX_train\u001b[0m\u001b[1;33m,\u001b[0m \u001b[0mY_train\u001b[0m\u001b[1;33m,\u001b[0m \u001b[0mX_test\u001b[0m\u001b[1;33m,\u001b[0m \u001b[0mY_test\u001b[0m\u001b[1;33m,\u001b[0m\u001b[0mparametros_iniciales\u001b[0m\u001b[1;33m)\u001b[0m\u001b[1;33m\u001b[0m\u001b[0m\n\u001b[0m",
      "\u001b[1;32m<ipython-input-38-37961ea9b8d5>\u001b[0m in \u001b[0;36mmodel\u001b[1;34m(X_train, Y_train, X_test, Y_test, parametros_iniciales, learning_rate, num_epochs, minibatch_size, print_cost)\u001b[0m\n\u001b[0;32m     70\u001b[0m                 \u001b[1;31m# IMPORTANT: The line that runs the graph on a minibatch.\u001b[0m\u001b[1;33m\u001b[0m\u001b[1;33m\u001b[0m\u001b[0m\n\u001b[0;32m     71\u001b[0m                 \u001b[1;31m# Run the session to execute the \"optimizer\" and the \"cost\", the feedict should contain a minibatch for (X,Y).\u001b[0m\u001b[1;33m\u001b[0m\u001b[1;33m\u001b[0m\u001b[0m\n\u001b[1;32m---> 72\u001b[1;33m                 \u001b[0m_\u001b[0m \u001b[1;33m,\u001b[0m \u001b[0mminibatch_cost\u001b[0m \u001b[1;33m=\u001b[0m \u001b[0msess\u001b[0m\u001b[1;33m.\u001b[0m\u001b[0mrun\u001b[0m\u001b[1;33m(\u001b[0m\u001b[1;33m[\u001b[0m\u001b[0moptimizer\u001b[0m\u001b[1;33m,\u001b[0m \u001b[0mcost\u001b[0m\u001b[1;33m]\u001b[0m\u001b[1;33m,\u001b[0m \u001b[0mfeed_dict\u001b[0m\u001b[1;33m=\u001b[0m\u001b[1;33m{\u001b[0m\u001b[0mX\u001b[0m\u001b[1;33m:\u001b[0m \u001b[0mminibatch_X\u001b[0m\u001b[1;33m,\u001b[0m \u001b[0mY\u001b[0m\u001b[1;33m:\u001b[0m \u001b[0mminibatch_Y\u001b[0m\u001b[1;33m}\u001b[0m\u001b[1;33m)\u001b[0m\u001b[1;33m\u001b[0m\u001b[0m\n\u001b[0m\u001b[0;32m     73\u001b[0m \u001b[1;33m\u001b[0m\u001b[0m\n\u001b[0;32m     74\u001b[0m                 \u001b[0mepoch_cost\u001b[0m \u001b[1;33m+=\u001b[0m \u001b[0mminibatch_cost\u001b[0m \u001b[1;33m/\u001b[0m \u001b[0mnum_minibatches\u001b[0m\u001b[1;33m\u001b[0m\u001b[0m\n",
      "\u001b[1;32mD:\\ANACONDA\\envs\\tensorflow\\lib\\site-packages\\tensorflow\\python\\client\\session.py\u001b[0m in \u001b[0;36mrun\u001b[1;34m(self, fetches, feed_dict, options, run_metadata)\u001b[0m\n\u001b[0;32m    787\u001b[0m     \u001b[1;32mtry\u001b[0m\u001b[1;33m:\u001b[0m\u001b[1;33m\u001b[0m\u001b[0m\n\u001b[0;32m    788\u001b[0m       result = self._run(None, fetches, feed_dict, options_ptr,\n\u001b[1;32m--> 789\u001b[1;33m                          run_metadata_ptr)\n\u001b[0m\u001b[0;32m    790\u001b[0m       \u001b[1;32mif\u001b[0m \u001b[0mrun_metadata\u001b[0m\u001b[1;33m:\u001b[0m\u001b[1;33m\u001b[0m\u001b[0m\n\u001b[0;32m    791\u001b[0m         \u001b[0mproto_data\u001b[0m \u001b[1;33m=\u001b[0m \u001b[0mtf_session\u001b[0m\u001b[1;33m.\u001b[0m\u001b[0mTF_GetBuffer\u001b[0m\u001b[1;33m(\u001b[0m\u001b[0mrun_metadata_ptr\u001b[0m\u001b[1;33m)\u001b[0m\u001b[1;33m\u001b[0m\u001b[0m\n",
      "\u001b[1;32mD:\\ANACONDA\\envs\\tensorflow\\lib\\site-packages\\tensorflow\\python\\client\\session.py\u001b[0m in \u001b[0;36m_run\u001b[1;34m(self, handle, fetches, feed_dict, options, run_metadata)\u001b[0m\n\u001b[0;32m    966\u001b[0m             \u001b[0mfeed_handles\u001b[0m\u001b[1;33m[\u001b[0m\u001b[0msubfeed_name\u001b[0m\u001b[1;33m]\u001b[0m \u001b[1;33m=\u001b[0m \u001b[0msubfeed_val\u001b[0m\u001b[1;33m\u001b[0m\u001b[0m\n\u001b[0;32m    967\u001b[0m           \u001b[1;32melse\u001b[0m\u001b[1;33m:\u001b[0m\u001b[1;33m\u001b[0m\u001b[0m\n\u001b[1;32m--> 968\u001b[1;33m             \u001b[0mnp_val\u001b[0m \u001b[1;33m=\u001b[0m \u001b[0mnp\u001b[0m\u001b[1;33m.\u001b[0m\u001b[0masarray\u001b[0m\u001b[1;33m(\u001b[0m\u001b[0msubfeed_val\u001b[0m\u001b[1;33m,\u001b[0m \u001b[0mdtype\u001b[0m\u001b[1;33m=\u001b[0m\u001b[0msubfeed_dtype\u001b[0m\u001b[1;33m)\u001b[0m\u001b[1;33m\u001b[0m\u001b[0m\n\u001b[0m\u001b[0;32m    969\u001b[0m \u001b[1;33m\u001b[0m\u001b[0m\n\u001b[0;32m    970\u001b[0m           if (not is_tensor_handle_feed and\n",
      "\u001b[1;32mD:\\ANACONDA\\envs\\tensorflow\\lib\\site-packages\\numpy\\core\\numeric.py\u001b[0m in \u001b[0;36masarray\u001b[1;34m(a, dtype, order)\u001b[0m\n\u001b[0;32m    490\u001b[0m \u001b[1;33m\u001b[0m\u001b[0m\n\u001b[0;32m    491\u001b[0m     \"\"\"\n\u001b[1;32m--> 492\u001b[1;33m     \u001b[1;32mreturn\u001b[0m \u001b[0marray\u001b[0m\u001b[1;33m(\u001b[0m\u001b[0ma\u001b[0m\u001b[1;33m,\u001b[0m \u001b[0mdtype\u001b[0m\u001b[1;33m,\u001b[0m \u001b[0mcopy\u001b[0m\u001b[1;33m=\u001b[0m\u001b[1;32mFalse\u001b[0m\u001b[1;33m,\u001b[0m \u001b[0morder\u001b[0m\u001b[1;33m=\u001b[0m\u001b[0morder\u001b[0m\u001b[1;33m)\u001b[0m\u001b[1;33m\u001b[0m\u001b[0m\n\u001b[0m\u001b[0;32m    493\u001b[0m \u001b[1;33m\u001b[0m\u001b[0m\n\u001b[0;32m    494\u001b[0m \u001b[1;33m\u001b[0m\u001b[0m\n",
      "\u001b[1;31mKeyboardInterrupt\u001b[0m: "
     ]
    }
   ],
   "source": [
    "parameters = model(X_train, Y_train, X_test, Y_test,parametros_iniciales)"
   ]
  },
  {
   "cell_type": "markdown",
   "metadata": {},
   "source": [
    "0.082 de ACCURACY!!! MUY MAL"
   ]
  },
  {
   "cell_type": "markdown",
   "metadata": {},
   "source": [
    "Parece que el coste converge muy rapido a 3.62 y varía muy poco con las epochs succesivos.  \n",
    "Tenemos un learning rate muy bajo, puede que nos hayamos atascado en un mínimo local."
   ]
  },
  {
   "cell_type": "code",
   "execution_count": 103,
   "metadata": {},
   "outputs": [
    {
     "name": "stdout",
     "output_type": "stream",
     "text": [
      "Cost after epoch 0: 9.934310\n",
      "Cost after epoch 100: 3.658386\n",
      "Cost after epoch 200: 3.657944\n",
      "Cost after epoch 300: 3.653208\n",
      "Cost after epoch 400: 3.660821\n",
      "Cost after epoch 500: 3.661104\n",
      "Cost after epoch 600: 3.657545\n",
      "Cost after epoch 700: 3.658551\n",
      "Cost after epoch 800: 3.658720\n",
      "Cost after epoch 900: 3.658173\n",
      "Cost after epoch 1000: 3.660375\n",
      "Cost after epoch 1100: 3.662266\n",
      "Cost after epoch 1200: 3.656960\n",
      "Cost after epoch 1300: 3.657508\n",
      "Cost after epoch 1400: 3.657442\n"
     ]
    },
    {
     "data": {
      "image/png": "[encoded data removed]",
      "text/plain": [
       "<Figure size 432x288 with 1 Axes>"
      ]
     },
     "metadata": {},
     "output_type": "display_data"
    },
    {
     "name": "stdout",
     "output_type": "stream",
     "text": [
      "Parameters have been trained!\n",
      "Train Accuracy: 0.08196721\n",
      "Test Accuracy: 0.02420635\n"
     ]
    }
   ],
   "source": [
    "parameters = model(X_train, Y_train, X_test, Y_test,parametros_iniciales, learning_rate=0.1)"
   ]
  },
  {
   "cell_type": "markdown",
   "metadata": {},
   "source": [
    "Parece que cambiando el learning_rate no conseguimos mejorar, acabamos en lo que parece el mismo mínimo local.  "
   ]
  },
  {
   "cell_type": "markdown",
   "metadata": {},
   "source": [
    "Podemos observar que el coste de los dos casos tiende hacia el mismo sitio (3.65).  \n",
    "Puede que se deba a que inicializador tiene un random seed establecido para poder comparar los resultados.    \n",
    "Vamos a quitar el random seed predeterminado a ver que pasa.  \n",
    "También observamos que en el epoch 200 ya no varia mucho.  \n",
    "Si reducimos el nº de epochs podremos aumentar el tiempo entre iteraciones."
   ]
  },
  {
   "cell_type": "code",
   "execution_count": 45,
   "metadata": {},
   "outputs": [],
   "source": [
    "parametros_iniciales={\"n_x\":len(X_train),\n",
    "                      \"n_y\":len(Y_train),\n",
    "                      \"m\":len(X_train[0]),\n",
    "                      \"L1\":100,\n",
    "                      \"L2\":80,\n",
    "                      \"L3\":62}"
   ]
  },
  {
   "cell_type": "code",
   "execution_count": 46,
   "metadata": {},
   "outputs": [
    {
     "name": "stdout",
     "output_type": "stream",
     "text": [
      "Cost after epoch 0: 4.136390\n",
      "Cost after epoch 100: 3.626291\n",
      "Cost after epoch 200: 3.625470\n",
      "Cost after epoch 300: 3.625147\n",
      "Cost after epoch 400: 3.625169\n"
     ]
    },
    {
     "data": {
      "image/png": "[encoded data removed]",
      "text/plain": [
       "<Figure size 432x288 with 1 Axes>"
      ]
     },
     "metadata": {},
     "output_type": "display_data"
    },
    {
     "name": "stdout",
     "output_type": "stream",
     "text": [
      "Parameters have been trained!\n",
      "Train Accuracy: 0.08196721\n",
      "Test Accuracy: 0.041666668\n"
     ]
    }
   ],
   "source": [
    "parameters = model(X_train, Y_train, X_test, Y_test,parametros_iniciales, learning_rate=0.00001, num_epochs=500)"
   ]
  },
  {
   "cell_type": "markdown",
   "metadata": {},
   "source": [
    "Parece que no era problema del inicializador.  \n",
    "El coste se aproxima a los que hemos estado viendo."
   ]
  },
  {
   "cell_type": "markdown",
   "metadata": {},
   "source": [
    "El modelo que hemos creado es muy simple  y puede que no sea capaz de representar la complejidad del problema.  \n",
    "Podríamos probar de reducir el número de categorías y ver si simplificando el problema mejoramos algo."
   ]
  },
  {
   "cell_type": "markdown",
   "metadata": {},
   "source": [
    "## SIMPLIFYING THE DATASET"
   ]
  },
  {
   "cell_type": "markdown",
   "metadata": {},
   "source": [
    "Para esta simplificación vamos a escoger tres tipos de señales con distintos formatos para ver si el modelo presponde.  \n",
    "Las categorias que vamos a utilizar son: 1(110), 19(231), 22(375), 32(316), 39(196) y 47(147)  \n",
    "En total tenemos 1375 ejemplos.  \n",
    "Intentamos elegir categorias que tengan gran cantidad de ejemplos y que tenga formatos y colores distintos."
   ]
  },
  {
   "cell_type": "code",
   "execution_count": 19,
   "metadata": {},
   "outputs": [],
   "source": [
    "def dataset_slice(X_orig,Y_orig,X_slice,Y_slice,cat):\n",
    "    for i in range(len(Y_orig)):\n",
    "        #print(Y_orig)\n",
    "        if Y_orig[i] == cat:\n",
    "            X_slice.append(X_orig[i])\n",
    "            Y_slice.append(Y_orig[i])\n",
    "    return X_slice, Y_slice"
   ]
  },
  {
   "cell_type": "code",
   "execution_count": 20,
   "metadata": {},
   "outputs": [],
   "source": [
    "#sliing train dataset\n",
    "X_train_slice=[]\n",
    "Y_train_slice=[]\n",
    "categories = [1,19,22,32,39,47]\n",
    "for category in categories:\n",
    "    #print(category)\n",
    "    X_train_slice,Y_train_slice=dataset_slice(X_train_orig,Y_train_orig,X_train_slice,Y_train_slice,category)"
   ]
  },
  {
   "cell_type": "code",
   "execution_count": 21,
   "metadata": {},
   "outputs": [],
   "source": [
    "#sliing test dataset\n",
    "X_test_slice=[]\n",
    "Y_test_slice=[]\n",
    "categories = [1,19,22,32,39,47]\n",
    "for category in categories:\n",
    "    X_test_slice,Y_test_slice=dataset_slice(X_test_orig,Y_test_orig,X_test_slice,Y_test_slice,category)"
   ]
  },
  {
   "cell_type": "code",
   "execution_count": 22,
   "metadata": {},
   "outputs": [
    {
     "name": "stderr",
     "output_type": "stream",
     "text": [
      "D:\\ANACONDA\\envs\\tensorflow\\lib\\site-packages\\skimage\\transform\\_warps.py:84: UserWarning: The default mode, 'constant', will be changed to 'reflect' in skimage 0.15.\n",
      "  warn(\"The default mode, 'constant', will be changed to 'reflect' in \"\n"
     ]
    },
    {
     "name": "stdout",
     "output_type": "stream",
     "text": [
      "X_32[0].shape (32, 32, 3)\n",
      "32*32*3 = 3072\n",
      "X_32[0].shape (32, 32, 3)\n",
      "32*32*3 = 3072\n"
     ]
    }
   ],
   "source": [
    "#preparing the dataset\n",
    "X_train_slice=prepare_X(X_train_slice)\n",
    "X_test_slice=prepare_X(X_test_slice)"
   ]
  },
  {
   "cell_type": "code",
   "execution_count": 23,
   "metadata": {},
   "outputs": [
    {
     "name": "stdout",
     "output_type": "stream",
     "text": [
      "(3072, 1375)\n"
     ]
    }
   ],
   "source": [
    "print(X_train_slice.shape)"
   ]
  },
  {
   "cell_type": "code",
   "execution_count": 24,
   "metadata": {},
   "outputs": [],
   "source": [
    "def prepare_Y_slice(Y,C):\n",
    "    Z=np.zeros((len(Y),C))\n",
    "    for i in range(len(Y)):\n",
    "        if Y[i]==1:\n",
    "            Z[i,0] = 1\n",
    "        if Y[i]==19:\n",
    "            Z[i,0] = 1\n",
    "        if Y[i]==22:\n",
    "            Z[i,1] = 1\n",
    "        if Y[i]==32:\n",
    "            Z[i,1] = 1\n",
    "        if Y[i]==39:\n",
    "            Z[i,1] = 1\n",
    "        if Y[i]==47:\n",
    "            Z[i,2] = 1\n",
    "    return Z.T"
   ]
  },
  {
   "cell_type": "code",
   "execution_count": 25,
   "metadata": {},
   "outputs": [],
   "source": [
    "Y_train_slice=prepare_Y_slice(Y_train_slice,len(set(Y_train_slice)))\n",
    "Y_test_slice=prepare_Y_slice(Y_test_slice,len(set(Y_test_slice)))"
   ]
  },
  {
   "cell_type": "code",
   "execution_count": 26,
   "metadata": {},
   "outputs": [],
   "source": [
    "parametros_iniciales={\"n_x\":len(X_train_slice),\n",
    "                      \"n_y\":len(Y_train_slice),\n",
    "                      \"m\":len(X_train_slice[0]),\n",
    "                      \"L1\":25,\n",
    "                      \"L2\":12,\n",
    "                      \"L3\":6}"
   ]
  },
  {
   "cell_type": "code",
   "execution_count": 42,
   "metadata": {},
   "outputs": [
    {
     "name": "stdout",
     "output_type": "stream",
     "text": [
      "Cost after epoch 0: 2.202867\n",
      "Cost after epoch 100: 1.589275\n",
      "Cost after epoch 200: 1.501430\n",
      "Cost after epoch 300: 1.416084\n",
      "Cost after epoch 400: 1.329784\n",
      "Cost after epoch 500: 1.265330\n",
      "Cost after epoch 600: 1.208353\n",
      "Cost after epoch 700: 1.155924\n",
      "Cost after epoch 800: 1.107382\n",
      "Cost after epoch 900: 1.064298\n",
      "Cost after epoch 1000: 1.028209\n",
      "Cost after epoch 1100: 0.998766\n",
      "Cost after epoch 1200: 0.975274\n",
      "Cost after epoch 1300: 0.957056\n",
      "Cost after epoch 1400: 0.942961\n",
      "Cost after epoch 1500: 0.931959\n",
      "Cost after epoch 1600: 0.923488\n",
      "Cost after epoch 1700: 0.916954\n",
      "Cost after epoch 1800: 0.911814\n",
      "Cost after epoch 1900: 0.907599\n",
      "Cost after epoch 2000: 0.904314\n",
      "Cost after epoch 2100: 0.901584\n",
      "Cost after epoch 2200: 0.899355\n",
      "Cost after epoch 2300: 0.897468\n",
      "Cost after epoch 2400: 0.896062\n",
      "Cost after epoch 2500: 0.894907\n",
      "Cost after epoch 2600: 0.893783\n",
      "Cost after epoch 2700: 0.893023\n",
      "Cost after epoch 2800: 0.892337\n",
      "Cost after epoch 2900: 0.891691\n"
     ]
    },
    {
     "data": {
      "image/png": "[encoded data removed]",
      "text/plain": [
       "<Figure size 432x288 with 1 Axes>"
      ]
     },
     "metadata": {},
     "output_type": "display_data"
    },
    {
     "name": "stdout",
     "output_type": "stream",
     "text": [
      "Parameters have been trained!\n",
      "Train Accuracy: 0.64509094\n",
      "Test Accuracy: 0.72478205\n"
     ]
    }
   ],
   "source": [
    "parameters = model(X_train_slice, Y_train_slice, X_test_slice, Y_test_slice,parametros_iniciales, learning_rate=0.000001, num_epochs=3000, minibatch_size = 32)"
   ]
  },
  {
   "cell_type": "markdown",
   "metadata": {},
   "source": [
    "NO ESTÁ MAL....  \n",
    "Después de tunear un poco el learning rate, conseguimos un train accurac de 65%."
   ]
  },
  {
   "cell_type": "markdown",
   "metadata": {},
   "source": [
    "TRAINING ERROR: 65%  \n",
    "TEST ERROR: 73%"
   ]
  },
  {
   "cell_type": "markdown",
   "metadata": {},
   "source": [
    "BYES ERROR  \n",
    "En este tipo de problemas el error optimo de Byes (el mínimo posible) estaría alrededor de un 0-0.5 %, los humanos somos muy buenos reconociendo imágenes.  \n",
    "Con este mismo modelo pero utilizando imágenes más limpias del SIGNS dataset Andrew NG consigue un 99% acierto.  \n",
    "El model utilizado por Walled Abdulla en este mismo dataset y con todas las categorias consigue entre un 40 y un 70%.  \n",
    "Comparando el error de Andrew Y Walled deducimos que nuestro dataset es más complicado. Andrew consigue un mayor acierto con un modelo mucho más simple que Walled.  \n",
    "Podemos considerar que el Byes error para este \"slice\" del dataset y con este modelo está entorno a un 80-90%.  \n",
    "Idealmente, deberíamos conseguir ese porcentaje."
   ]
  },
  {
   "cell_type": "markdown",
   "metadata": {},
   "source": [
    "RANDOM GUESS  \n",
    "Dado que tenemos 6 categorias, un random guess tiene un 16,6% de probabilidades de acertar."
   ]
  },
  {
   "cell_type": "markdown",
   "metadata": {},
   "source": [
    "Tenemos un avoidable bias muy grande aún 15-20%.  \n",
    "Pero observamos como nuestro modelo lo hace bastante mejor que un random guess.  "
   ]
  },
  {
   "cell_type": "markdown",
   "metadata": {},
   "source": [
    "Este acierto lo hemos conseguido simplemente tuneando el learning rate. Podemos deducir que el potencial del modelo es algo mayor de lo que hemos conseguido ahora.  \n",
    "De momento tenemos tres hyperparametros:\n",
    "+ El número de capas\n",
    "+ La dimensión de las capas\n",
    "+ Minibatch_size."
   ]
  },
  {
   "cell_type": "markdown",
   "metadata": {},
   "source": [
    "TRAIN ACCURACY < TEST ACCURACY  \n",
    "Parece que la precisión del test es mayor que la del train.  \n",
    "Esto es muy extraño, debería ser justo lo contrario.  \n",
    "Puede que sea debido a que las imágenes del test son de mayor calidad, deberíamos comprobarlo."
   ]
  },
  {
   "cell_type": "code",
   "execution_count": 56,
   "metadata": {},
   "outputs": [],
   "source": [
    "parametros_iniciales={\"n_x\":len(X_train_slice),\n",
    "                      \"n_y\":len(Y_train_slice),\n",
    "                      \"m\":len(X_train_slice[0]),\n",
    "                      \"L1\":50,\n",
    "                      \"L2\":25,\n",
    "                      \"L3\":6}"
   ]
  },
  {
   "cell_type": "code",
   "execution_count": 55,
   "metadata": {},
   "outputs": [
    {
     "name": "stdout",
     "output_type": "stream",
     "text": [
      "Cost after epoch 0: 1.654354\n",
      "Cost after epoch 100: 1.616659\n",
      "Cost after epoch 200: 1.581879\n",
      "Cost after epoch 300: 1.549967\n",
      "Cost after epoch 400: 1.531537\n",
      "Cost after epoch 500: 1.513215\n",
      "Cost after epoch 600: 1.498201\n",
      "Cost after epoch 700: 1.485425\n",
      "Cost after epoch 800: 1.473824\n",
      "Cost after epoch 900: 1.462628\n"
     ]
    },
    {
     "data": {
      "image/png": "[encoded data removed]",
      "text/plain": [
       "<Figure size 432x288 with 1 Axes>"
      ]
     },
     "metadata": {},
     "output_type": "display_data"
    },
    {
     "name": "stdout",
     "output_type": "stream",
     "text": [
      "Parameters have been trained!\n",
      "Train Accuracy: 0.64509094\n",
      "Test Accuracy: 0.72478205\n"
     ]
    }
   ],
   "source": [
    "parameters = model(X_train_slice, Y_train_slice, X_test_slice, Y_test_slice,parametros_iniciales, learning_rate=0.00000001, num_epochs=1000)"
   ]
  },
  {
   "cell_type": "markdown",
   "metadata": {},
   "source": [
    "ME DA EL MISMO TRAIN ACCURACY....  \n",
    "ESTO ES MUY RARO  \n",
    "Voy a volver a ejecutar el modelo para ver si ha sido casualidad."
   ]
  },
  {
   "cell_type": "code",
   "execution_count": 57,
   "metadata": {},
   "outputs": [
    {
     "name": "stdout",
     "output_type": "stream",
     "text": [
      "Cost after epoch 0: 1.614893\n",
      "Cost after epoch 100: 1.552912\n",
      "Cost after epoch 200: 1.499389\n",
      "Cost after epoch 300: 1.449871\n",
      "Cost after epoch 400: 1.405036\n",
      "Cost after epoch 500: 1.363934\n",
      "Cost after epoch 600: 1.327102\n",
      "Cost after epoch 700: 1.293590\n",
      "Cost after epoch 800: 1.259216\n",
      "Cost after epoch 900: 1.229243\n"
     ]
    },
    {
     "data": {
      "image/png": "[encoded data removed]",
      "text/plain": [
       "<Figure size 432x288 with 1 Axes>"
      ]
     },
     "metadata": {},
     "output_type": "display_data"
    },
    {
     "name": "stdout",
     "output_type": "stream",
     "text": [
      "Parameters have been trained!\n",
      "Train Accuracy: 0.64509094\n",
      "Test Accuracy: 0.72478205\n"
     ]
    }
   ],
   "source": [
    "parameters = model(X_train_slice, Y_train_slice, X_test_slice, Y_test_slice,parametros_iniciales, learning_rate=0.00000001, num_epochs=1000)"
   ]
  },
  {
   "cell_type": "markdown",
   "metadata": {},
   "source": [
    "El coste es muy alto pero me da exactamente el mismo train accurac....  \n",
    "Reseteo el Kernel y vuelvo a ejecutar cambiando algo los parametros."
   ]
  },
  {
   "cell_type": "code",
   "execution_count": 27,
   "metadata": {},
   "outputs": [],
   "source": [
    "parametros_iniciales={\"n_x\":len(X_train_slice),\n",
    "                      \"n_y\":len(Y_train_slice),\n",
    "                      \"m\":len(X_train_slice[0]),\n",
    "                      \"L1\":50,\n",
    "                      \"L2\":25,\n",
    "                      \"L3\":6}"
   ]
  },
  {
   "cell_type": "code",
   "execution_count": 28,
   "metadata": {},
   "outputs": [
    {
     "name": "stdout",
     "output_type": "stream",
     "text": [
      "Cost after epoch 0: 1.542269\n",
      "Cost after epoch 100: 0.967371\n",
      "Cost after epoch 200: 0.917862\n",
      "Cost after epoch 300: 0.909514\n",
      "Cost after epoch 400: 0.907188\n"
     ]
    },
    {
     "data": {
      "image/png": "[encoded data removed]",
      "text/plain": [
       "<Figure size 432x288 with 1 Axes>"
      ]
     },
     "metadata": {},
     "output_type": "display_data"
    },
    {
     "name": "stdout",
     "output_type": "stream",
     "text": [
      "Parameters have been trained!\n",
      "Train Accuracy: 0.64509094\n",
      "Test Accuracy: 0.72478205\n"
     ]
    }
   ],
   "source": [
    "tf.reset_default_graph()\n",
    "parameters = model(X_train_slice, Y_train_slice, X_test_slice, Y_test_slice,parametros_iniciales, learning_rate=0.00001, num_epochs=500, minibatch_size = 64)"
   ]
  },
  {
   "cell_type": "markdown",
   "metadata": {},
   "source": [
    "## <font color='red'>@M. CUARTAS <font color='red'> \n",
    "Me da el mismo error aunque aumente la capas...   \n",
    "QUE ESTA PASANDO???\n",
    "\n"
   ]
  },
  {
   "cell_type": "markdown",
   "metadata": {},
   "source": [
    "## AUMENTAMOS LA COMPLEJIDAD DEL MODELO"
   ]
  },
  {
   "cell_type": "markdown",
   "metadata": {},
   "source": [
    "Añadimos más capas"
   ]
  },
  {
   "cell_type": "code",
   "execution_count": 53,
   "metadata": {},
   "outputs": [],
   "source": [
    "def initialize_parameters(parametros_iniciales):\n",
    "    \"\"\"\n",
    "    Arguments:\n",
    "    parametros_inicales -- Python dictionary containing:\n",
    "        n_x -- scalar, size of an image vector (num_px * num_px = 32*32 * 3 = 3072)\n",
    "        n_y -- scalar, number of classes (from 0 to 62, so -> 62)\n",
    "        L1 -- scalar, dimension of the first layer\n",
    "        L2 -- scalar, dimension of the second layer\n",
    "        L3 -- scalar, dimension of the third layer\n",
    "    \n",
    "    Initializes parameters to build a neural network with tensorflow. The shapes are:\n",
    "                        W1 : [1000, 3072]\n",
    "                        b1 : [1000, 1]\n",
    "                        W2 : [500, 1000]\n",
    "                        b2 : [500, 1]\n",
    "                        W3 : [62, 500]\n",
    "                        b3 : [61, 1]\n",
    "    \n",
    "    Returns:\n",
    "    parameters -- a dictionary of tensors containing W1, b1, W2, b2, W3, b3\n",
    "    \"\"\"\n",
    "    \n",
    "    #tf.set_random_seed(1)                   # so that your \"random\" numbers match ours\n",
    "        \n",
    "    n_x=parametros_iniciales[\"n_x\"]\n",
    "    n_y=parametros_iniciales[\"n_y\"]\n",
    "    L1=parametros_iniciales[\"L1\"]\n",
    "    L2=parametros_iniciales[\"L2\"]\n",
    "    L3=parametros_iniciales[\"L3\"]\n",
    "    L4=parametros_iniciales[\"L4\"]\n",
    "    L5=parametros_iniciales[\"L5\"]\n",
    "    \n",
    "    \n",
    "    \n",
    "    W1 = tf.get_variable(\"W1\", [L1,n_x], initializer = tf.contrib.layers.xavier_initializer(seed = 1))\n",
    "    b1 = tf.get_variable(\"b1\", [L1,1], initializer = tf.zeros_initializer())\n",
    "    W2 = tf.get_variable(\"W2\", [L2,L1], initializer = tf.contrib.layers.xavier_initializer(seed = 1))\n",
    "    b2 = tf.get_variable(\"b2\", [L2,1], initializer = tf.zeros_initializer())\n",
    "    W3 = tf.get_variable(\"W3\", [L3,L2], initializer = tf.contrib.layers.xavier_initializer(seed = 1))\n",
    "    b3 = tf.get_variable(\"b3\", [L3,1], initializer = tf.zeros_initializer())\n",
    "    W4 = tf.get_variable(\"W4\", [L4,L3], initializer = tf.contrib.layers.xavier_initializer(seed = 1))\n",
    "    b4 = tf.get_variable(\"b4\", [L4,1], initializer = tf.zeros_initializer())\n",
    "    W5 = tf.get_variable(\"W5\", [L5,L4], initializer = tf.contrib.layers.xavier_initializer(seed = 1))\n",
    "    b5 = tf.get_variable(\"b5\", [L5,1], initializer = tf.zeros_initializer())\n",
    "\n",
    "    parameters = {\"W1\": W1,\n",
    "                  \"b1\": b1,\n",
    "                  \"W2\": W2,\n",
    "                  \"b2\": b2,\n",
    "                  \"W3\": W3,\n",
    "                  \"b3\": b3,\n",
    "                  \"W4\": W4,\n",
    "                  \"b4\": b4,\n",
    "                  \"W5\": W5,\n",
    "                  \"b5\": b5}\n",
    "    \n",
    "    return parameters"
   ]
  },
  {
   "cell_type": "code",
   "execution_count": 54,
   "metadata": {},
   "outputs": [],
   "source": [
    "def forward_propagation(X, parameters):\n",
    "    \"\"\"\n",
    "    Implements the forward propagation for the model: LINEAR -> RELU -> LINEAR -> RELU -> LINEAR -> SOFTMAX\n",
    "    \n",
    "    Arguments:\n",
    "    X -- input dataset placeholder, of shape (input size, number of examples)\n",
    "    parameters -- python dictionary containing your parameters \"W1\", \"b1\", \"W2\", \"b2\", \"W3\", \"b3\"\n",
    "                  the shapes are given in initialize_parameters\n",
    "\n",
    "    Returns:\n",
    "    Z3 -- the output of the last LINEAR unit\n",
    "    \"\"\"\n",
    "    \n",
    "    # Retrieve the parameters from the dictionary \"parameters\" \n",
    "    W1 = parameters['W1']\n",
    "    b1 = parameters['b1']\n",
    "    W2 = parameters['W2']\n",
    "    b2 = parameters['b2']\n",
    "    W3 = parameters['W3']\n",
    "    b3 = parameters['b3']\n",
    "    W4 = parameters['W4']\n",
    "    b4 = parameters['b4']\n",
    "    W5 = parameters['W5']\n",
    "    b5 = parameters['b5']\n",
    "    \n",
    "                                                           # Numpy Equivalents:\n",
    "    Z1 = tf.add(tf.matmul(W1,X),b1)                        # Z1 = np.dot(W1, X) + b1\n",
    "    A1 = tf.nn.relu(Z1)                                    # A1 = relu(Z1)\n",
    "    Z2 = tf.add(tf.matmul(W2,A1),b2)                       # Z2 = np.dot(W2, a1) + b2\n",
    "    A2 = tf.nn.relu(Z2)                                    # A2 = relu(Z2)\n",
    "    Z3 = tf.add(tf.matmul(W3,A2),b3)                       # Z3 = np.dot(W3,Z2) + b3\n",
    "    A3 = tf.nn.relu(Z3)\n",
    "    Z4 = tf.add(tf.matmul(W4,A3),b4)                       \n",
    "    A4 = tf.nn.relu(Z4)\n",
    "    Z5 = tf.add(tf.matmul(W5,A4),b5)\n",
    "    \n",
    "    \n",
    "    return Z5"
   ]
  },
  {
   "cell_type": "code",
   "execution_count": 55,
   "metadata": {},
   "outputs": [],
   "source": [
    "def model(X_train, Y_train, X_test, Y_test,parametros_iniciales, learning_rate = 0.0001,\n",
    "          num_epochs = 1500, minibatch_size = 32, print_cost = True):\n",
    "    \"\"\"\n",
    "    Implements a three-layer tensorflow neural network: LINEAR->RELU->LINEAR->RELU->LINEAR->SOFTMAX.\n",
    "    \n",
    "    Arguments:\n",
    "    X_train -- training set, of shape (input size = 12288, number of training examples = 1080)\n",
    "    Y_train -- test set, of shape (output size = 6, number of training examples = 1080)\n",
    "    X_test -- training set, of shape (input size = 12288, number of training examples = 120)\n",
    "    Y_test -- test set, of shape (output size = 6, number of test examples = 120)\n",
    "    learning_rate -- learning rate of the optimization\n",
    "    num_epochs -- number of epochs of the optimization loop\n",
    "    minibatch_size -- size of a minibatch\n",
    "    print_cost -- True to print the cost every 100 epochs\n",
    "    \n",
    "    Returns:\n",
    "    parameters -- parameters learnt by the model. They can then be used to predict.\n",
    "    \"\"\"\n",
    "    \n",
    "    ops.reset_default_graph()                         # to be able to rerun the model without overwriting tf variables\n",
    "    #tf.set_random_seed(1)                             # to keep consistent results\n",
    "    #seed = 3                                          # to keep consistent results\n",
    "    n_x= parametros_iniciales[\"n_x\"]                          # (n_x: input size, m : number of examples in the train set)\n",
    "    n_y = parametros_iniciales[\"n_y\"]                            # n_y : output size\n",
    "    m=parametros_iniciales[\"m\"]\n",
    "    costs = []                                        # To keep track of the cost\n",
    "    \n",
    "    # Create Placeholders of shape (n_x, n_y)\n",
    "    X, Y = create_placeholders(parametros_iniciales)\n",
    "\n",
    "    # Initialize parameters\n",
    "    parameters = initialize_parameters(parametros_iniciales)\n",
    "    \n",
    "    # Forward propagation: Build the forward propagation in the tensorflow graph\n",
    "    Z3 = forward_propagation(X, parameters)\n",
    "    #print(Z3)\n",
    "    \n",
    "    # Cost function: Add cost function to tensorflow graph\n",
    "    cost = compute_cost(Z3, Y)\n",
    "    \n",
    "    # Backpropagation: Define the tensorflow optimizer. Use an AdamOptimizer.\n",
    "    optimizer = tf.train.AdamOptimizer(learning_rate).minimize(cost)\n",
    "    \n",
    "    # Initialize all the variables\n",
    "    init = tf.global_variables_initializer()\n",
    "    #print('Y_train.shape',Y_train.shape)\n",
    "    #print('X_train.shape',X_train.shape)\n",
    "\n",
    "    # Start the session to compute the tensorflow graph\n",
    "    with tf.Session() as sess:\n",
    "        \n",
    "        # Run the initialization\n",
    "        sess.run(init)\n",
    "        \n",
    "        # Do the training loop\n",
    "        for epoch in range(num_epochs):\n",
    "\n",
    "            epoch_cost = 0.                       # Defines a cost related to an epoch\n",
    "            num_minibatches = int(m / minibatch_size) # number of minibatches of size minibatch_size in the train set\n",
    "            #seed = seed + 1\n",
    "            minibatches = random_mini_batches(X_train, Y_train, minibatch_size)\n",
    "\n",
    "            for minibatch in minibatches:\n",
    "\n",
    "                # Select a minibatch\n",
    "                (minibatch_X, minibatch_Y) = minibatch\n",
    "                #print(minibatch_X.shape)\n",
    "                \n",
    "                # IMPORTANT: The line that runs the graph on a minibatch.\n",
    "                # Run the session to execute the \"optimizer\" and the \"cost\", the feedict should contain a minibatch for (X,Y).\n",
    "                _ , minibatch_cost = sess.run([optimizer, cost], feed_dict={X: minibatch_X, Y: minibatch_Y})\n",
    "                \n",
    "                epoch_cost += minibatch_cost / num_minibatches\n",
    "\n",
    "            # Print the cost every epoch\n",
    "            if print_cost == True and epoch % 100 == 0:\n",
    "                print (\"Cost after epoch %i: %f\" % (epoch, epoch_cost))\n",
    "            if print_cost == True and epoch % 5 == 0:\n",
    "                costs.append(epoch_cost)\n",
    "                \n",
    "        # plot the cost\n",
    "        plt.plot(np.squeeze(costs))\n",
    "        plt.ylabel('cost')\n",
    "        plt.xlabel('iterations (per tens)')\n",
    "        plt.title(\"Learning rate =\" + str(learning_rate))\n",
    "        plt.show()\n",
    "\n",
    "        # lets save the parameters in a variable\n",
    "        parameters = sess.run(parameters)\n",
    "        print (\"Parameters have been trained!\")\n",
    "\n",
    "        # Calculate the correct predictions\n",
    "        correct_prediction = tf.equal(tf.argmax(Z3), tf.argmax(Y))\n",
    "\n",
    "        # Calculate accuracy on the test set\n",
    "        accuracy = tf.reduce_mean(tf.cast(correct_prediction, \"float\"))\n",
    "\n",
    "        print (\"Train Accuracy:\", accuracy.eval({X: X_train, Y: Y_train}))\n",
    "        print (\"Test Accuracy:\", accuracy.eval({X: X_test, Y: Y_test}))\n",
    "        \n",
    "        return parameters"
   ]
  },
  {
   "cell_type": "code",
   "execution_count": 56,
   "metadata": {},
   "outputs": [],
   "source": [
    "parametros_iniciales={\"n_x\":len(X_train_slice),\n",
    "                      \"n_y\":len(Y_train_slice),\n",
    "                      \"m\":len(X_train_slice[0]),\n",
    "                      \"L1\":200,\n",
    "                      \"L2\":100,\n",
    "                      \"L3\":70,\n",
    "                      \"L4\":30,\n",
    "                      \"L5\":3,}"
   ]
  },
  {
   "cell_type": "code",
   "execution_count": 57,
   "metadata": {},
   "outputs": [
    {
     "name": "stdout",
     "output_type": "stream",
     "text": [
      "Cost after epoch 0: 1.181403\n",
      "Cost after epoch 100: 1.134228\n",
      "Cost after epoch 200: 1.133808\n",
      "Cost after epoch 300: 1.133369\n",
      "Cost after epoch 400: 1.133202\n",
      "Cost after epoch 500: 1.133063\n",
      "Cost after epoch 600: 1.132992\n",
      "Cost after epoch 700: 1.132997\n",
      "Cost after epoch 800: 1.132966\n",
      "Cost after epoch 900: 1.132963\n"
     ]
    },
    {
     "data": {
      "image/png": "[encoded data removed]",
      "text/plain": [
       "<Figure size 432x288 with 1 Axes>"
      ]
     },
     "metadata": {},
     "output_type": "display_data"
    },
    {
     "name": "stdout",
     "output_type": "stream",
     "text": [
      "Parameters have been trained!\n",
      "Train Accuracy: 0.45924452\n",
      "Test Accuracy: 0.66530615\n"
     ]
    }
   ],
   "source": [
    "parameters = model(X_train_slice, Y_train_slice, X_test_slice, Y_test_slice,parametros_iniciales, learning_rate=0.001, num_epochs=1000)"
   ]
  },
  {
   "cell_type": "markdown",
   "metadata": {},
   "source": [
    "# SIGNS DATASET"
   ]
  },
  {
   "cell_type": "markdown",
   "metadata": {},
   "source": [
    "Parece que puede haber un error.  \n",
    "Para comprobarlo vamos a utilizar el SIGNS dataset de Andrew NG y ver si conseguimos un 90% que es lo que el consiguió"
   ]
  },
  {
   "cell_type": "code",
   "execution_count": 30,
   "metadata": {},
   "outputs": [],
   "source": [
    "# Loading the dataset\n",
    "X_train_orig, Y_train_orig, X_test_orig, Y_test_orig, classes = load_dataset()"
   ]
  },
  {
   "cell_type": "code",
   "execution_count": 31,
   "metadata": {},
   "outputs": [
    {
     "name": "stdout",
     "output_type": "stream",
     "text": [
      "y = 5\n"
     ]
    },
    {
     "data": {
      "image/png": "[encoded data removed]",
      "text/plain": [
       "<Figure size 432x288 with 1 Axes>"
      ]
     },
     "metadata": {},
     "output_type": "display_data"
    }
   ],
   "source": [
    "# Example of a picture\n",
    "index = 0\n",
    "plt.imshow(X_train_orig[index])\n",
    "print (\"y = \" + str(np.squeeze(Y_train_orig[:, index])))"
   ]
  },
  {
   "cell_type": "code",
   "execution_count": 32,
   "metadata": {},
   "outputs": [
    {
     "name": "stdout",
     "output_type": "stream",
     "text": [
      "NÚMERO DE DIMENSIONES DEL DATASET\n",
      " X_train_orig.ndim: 4\n",
      "\n",
      "LONGITUD DE LAS DIMENSIONES DEL DATASET\n",
      " X_train:orig.shape: (1080, 64, 64, 3) \n",
      "\n",
      "\n",
      "64*64*3= 12288\n",
      "X_train_flatten.ndim: 2\n",
      "X_train_flatten.shape: (12288, 1080)\n",
      "X_test_flatten.ndim: 2\n",
      "X_test_flatten.shpae: (12288, 120)\n",
      "\n",
      "\n",
      "Y_train.ndim: 2\n",
      "Y_train.shape: (6, 1080)\n",
      "Y_test.ndim: 2\n",
      "Y_test.shpae: (6, 120)\n",
      "\n",
      "\n",
      "number of training examples = 1080\n",
      "number of test examples = 120\n",
      "X_train shape: (12288, 1080)\n",
      "Y_train shape: (6, 1080)\n",
      "X_test shape: (12288, 120)\n",
      "Y_test shape: (6, 120)\n"
     ]
    }
   ],
   "source": [
    "# Flatten the training and test images\n",
    "#print('X_train_orig',X_train_orig)\n",
    "#print('NÚMERO DE FOTOS --> len(X_train_orig):',len(X_train_orig))\n",
    "#print('LONGITUD DEL PRIMER EJEMPLO --> len(X_train_orig[0]):',len(X_train_orig[0]))\n",
    "#print('LONGITUD DEL ÚLTIMO EJEMPLO --> len(X_train_orig[1079]):',len(X_train_orig[1079]))\n",
    "#print('PRIMER EJEMPLO --> X_train_orig[0,0]:',X_train_orig[0,0])\n",
    "#print('PRIMER EJEMPLO --> X_train_orig[0][0]:',X_train_orig[0][0])\n",
    "#print('LONGITUD DEL PRIMER ELEMENTO --> len(X_train_orig[0,0]):',len(X_train_orig[0,0]))\n",
    "#print('LONGITUD DEL PRIMER ELEMENTO --> len(X_train_orig[0][0]):',len(X_train_orig[0][0]))\n",
    "#print('PRIMER VECTOR DEL PRIMER ELEMENTO --> X_train_orig[0,0,0]:',X_train_orig[0,0,0])\n",
    "#print('LONGITUD VECTOR DEL PRIMER ELEMENTO --> len(X_train_orig[0,0,0]):',len(X_train_orig[0,0,0]))\n",
    "#print('TENEMOS 1080 EJEMPLOS (LISTAS) \\nQUE CONTIENEN UNA MATRIZ DE 64x64 \\nVECTORES QUE TIENEN LOS VALORES RGB DE CADA PIXEL')\n",
    "\n",
    "#print('\\n\\nLONGITUD DE LA PRIMERA DIMENSIÓN (nº ejemplos) --> X_train_orig.shape[0]:',X_train_orig.shape[0])\n",
    "#print('X_train_orig[0]',X_train_orig[0])\n",
    "#print('X_train_orig[1079]',X_train_orig[1079])\n",
    "#print('LONGITUD DE LA SEGUNDA DIMENSIÓN (nº filas por foto) --> X_train_orig.shape[1]',X_train_orig.shape[1])\n",
    "#print('LONGITUD DE LA TERCERA DIMENSIÓN (nº columnas por fotos) --> X_train_orig.shape[2]',X_train_orig.shape[2])\n",
    "#print('LONGITUD DE LA CUARTA DIMENSION (valores RGB de cada pixel) --> X_train_orig.shape[3]',X_train_orig.shape[3])\n",
    "#print('X_train_orig.shape[1,1]',X_train_orig.shape[1,1])\n",
    "#print('X_train_orig.shape[4]',X_train_orig.shape[4])\n",
    "\n",
    "##TODO LO ANTERIOR SE PUEDE RESUMIR EN:\n",
    "print('NÚMERO DE DIMENSIONES DEL DATASET\\n X_train_orig.ndim:',X_train_orig.ndim)\n",
    "print('\\nLONGITUD DE LAS DIMENSIONES DEL DATASET\\n X_train:orig.shape:',X_train_orig.shape,'\\n\\n')\n",
    "\n",
    "X_train_flatten = X_train_orig.reshape(X_train_orig.shape[0], -1).T\n",
    "X_test_flatten = X_test_orig.reshape(X_test_orig.shape[0], -1).T\n",
    "print('64*64*3=',64*64*3)\n",
    "print('X_train_flatten.ndim:',X_train_flatten.ndim)\n",
    "print('X_train_flatten.shape:',X_train_flatten.shape)\n",
    "print('X_test_flatten.ndim:',X_test_flatten.ndim)\n",
    "print('X_test_flatten.shpae:',X_test_flatten.shape)\n",
    "#print(X_train_flatten)\n",
    "# Normalize image vectors\n",
    "X_train = X_train_flatten/255.\n",
    "X_test = X_test_flatten/255.\n",
    "# Convert training and test labels to one hot matrices\n",
    "Y_train = convert_to_one_hot(Y_train_orig, 6)\n",
    "Y_test = convert_to_one_hot(Y_test_orig, 6)\n",
    "print('\\n\\nY_train.ndim:',Y_train.ndim)\n",
    "print('Y_train.shape:',Y_train.shape)\n",
    "print('Y_test.ndim:',Y_test.ndim)\n",
    "print('Y_test.shpae:',Y_test.shape)\n",
    "\n",
    "print (\"\\n\\nnumber of training examples = \" + str(X_train.shape[1]))\n",
    "print (\"number of test examples = \" + str(X_test.shape[1]))\n",
    "print (\"X_train shape: \" + str(X_train.shape))\n",
    "print (\"Y_train shape: \" + str(Y_train.shape))\n",
    "print (\"X_test shape: \" + str(X_test.shape))\n",
    "print (\"Y_test shape: \" + str(Y_test.shape))"
   ]
  },
  {
   "cell_type": "code",
   "execution_count": 55,
   "metadata": {},
   "outputs": [],
   "source": [
    "parametros_iniciales={\"n_x\":len(X_train),\n",
    "                      \"n_y\":len(Y_train),\n",
    "                      \"m\":len(X_train[0]),\n",
    "                      \"L1\":25,\n",
    "                      \"L2\":12,\n",
    "                      \"L3\":6,}"
   ]
  },
  {
   "cell_type": "code",
   "execution_count": 35,
   "metadata": {},
   "outputs": [
    {
     "name": "stdout",
     "output_type": "stream",
     "text": [
      "X = Tensor(\"X_1:0\", shape=(12288, ?), dtype=float32)\n",
      "Y = Tensor(\"Y_1:0\", shape=(6, ?), dtype=float32)\n"
     ]
    }
   ],
   "source": [
    "X, Y = create_placeholders(parametros_iniciales)\n",
    "print (\"X = \" + str(X))\n",
    "print (\"Y = \" + str(Y))"
   ]
  },
  {
   "cell_type": "code",
   "execution_count": 45,
   "metadata": {},
   "outputs": [],
   "source": [
    "def initialize_parameters(parametros_iniciales):\n",
    "    \"\"\"\n",
    "    Arguments:\n",
    "    parametros_inicales -- Python dictionary containing:\n",
    "        n_x -- scalar, size of an image vector (num_px * num_px = 32*32 * 3 = 3072)\n",
    "        n_y -- scalar, number of classes (from 0 to 62, so -> 62)\n",
    "        L1 -- scalar, dimension of the first layer\n",
    "        L2 -- scalar, dimension of the second layer\n",
    "        L3 -- scalar, dimension of the third layer\n",
    "    \n",
    "    Initializes parameters to build a neural network with tensorflow. The shapes are:\n",
    "                        W1 : [1000, 3072]\n",
    "                        b1 : [1000, 1]\n",
    "                        W2 : [500, 1000]\n",
    "                        b2 : [500, 1]\n",
    "                        W3 : [62, 500]\n",
    "                        b3 : [61, 1]\n",
    "    \n",
    "    Returns:\n",
    "    parameters -- a dictionary of tensors containing W1, b1, W2, b2, W3, b3\n",
    "    \"\"\"\n",
    "    \n",
    "    tf.set_random_seed(1)                   # so that your \"random\" numbers match ours\n",
    "        \n",
    "    n_x=parametros_iniciales[\"n_x\"]\n",
    "    n_y=parametros_iniciales[\"n_y\"]\n",
    "    L1=parametros_iniciales[\"L1\"]\n",
    "    L2=parametros_iniciales[\"L2\"]\n",
    "    L3=parametros_iniciales[\"L3\"]\n",
    "    \n",
    "    \n",
    "    \n",
    "    W1 = tf.get_variable(\"W1\", [L1,n_x], initializer = tf.contrib.layers.xavier_initializer(seed = 1))\n",
    "    b1 = tf.get_variable(\"b1\", [L1,1], initializer = tf.zeros_initializer())\n",
    "    W2 = tf.get_variable(\"W2\", [L2,L1], initializer = tf.contrib.layers.xavier_initializer(seed = 1))\n",
    "    b2 = tf.get_variable(\"b2\", [L2,1], initializer = tf.zeros_initializer())\n",
    "    W3 = tf.get_variable(\"W3\", [L3,L2], initializer = tf.contrib.layers.xavier_initializer(seed = 1))\n",
    "    b3 = tf.get_variable(\"b3\", [L3,1], initializer = tf.zeros_initializer())\n",
    "\n",
    "    parameters = {\"W1\": W1,\n",
    "                  \"b1\": b1,\n",
    "                  \"W2\": W2,\n",
    "                  \"b2\": b2,\n",
    "                  \"W3\": W3,\n",
    "                  \"b3\": b3}\n",
    "    \n",
    "    return parameters"
   ]
  },
  {
   "cell_type": "code",
   "execution_count": 37,
   "metadata": {},
   "outputs": [
    {
     "name": "stdout",
     "output_type": "stream",
     "text": [
      "W1 = <tf.Variable 'W1:0' shape=(25, 12288) dtype=float32_ref>\n",
      "b1 = <tf.Variable 'b1:0' shape=(25, 1) dtype=float32_ref>\n",
      "W2 = <tf.Variable 'W2:0' shape=(12, 25) dtype=float32_ref>\n",
      "b2 = <tf.Variable 'b2:0' shape=(12, 1) dtype=float32_ref>\n"
     ]
    }
   ],
   "source": [
    "tf.reset_default_graph()\n",
    "with tf.Session() as sess:\n",
    "    parameters = initialize_parameters(parametros_iniciales)\n",
    "    print(\"W1 = \" + str(parameters[\"W1\"]))\n",
    "    print(\"b1 = \" + str(parameters[\"b1\"]))\n",
    "    print(\"W2 = \" + str(parameters[\"W2\"]))\n",
    "    print(\"b2 = \" + str(parameters[\"b2\"]))"
   ]
  },
  {
   "cell_type": "code",
   "execution_count": 38,
   "metadata": {},
   "outputs": [],
   "source": [
    "def forward_propagation(X, parameters):\n",
    "    \"\"\"\n",
    "    Implements the forward propagation for the model: LINEAR -> RELU -> LINEAR -> RELU -> LINEAR -> SOFTMAX\n",
    "    \n",
    "    Arguments:\n",
    "    X -- input dataset placeholder, of shape (input size, number of examples)\n",
    "    parameters -- python dictionary containing your parameters \"W1\", \"b1\", \"W2\", \"b2\", \"W3\", \"b3\"\n",
    "                  the shapes are given in initialize_parameters\n",
    "\n",
    "    Returns:\n",
    "    Z3 -- the output of the last LINEAR unit\n",
    "    \"\"\"\n",
    "    \n",
    "    # Retrieve the parameters from the dictionary \"parameters\" \n",
    "    W1 = parameters['W1']\n",
    "    b1 = parameters['b1']\n",
    "    W2 = parameters['W2']\n",
    "    b2 = parameters['b2']\n",
    "    W3 = parameters['W3']\n",
    "    b3 = parameters['b3']\n",
    "    \n",
    "                                                           # Numpy Equivalents:\n",
    "    Z1 = tf.add(tf.matmul(W1,X),b1)                        # Z1 = np.dot(W1, X) + b1\n",
    "    A1 = tf.nn.relu(Z1)                                    # A1 = relu(Z1)\n",
    "    Z2 = tf.add(tf.matmul(W2,A1),b2)                       # Z2 = np.dot(W2, a1) + b2\n",
    "    A2 = tf.nn.relu(Z2)                                    # A2 = relu(Z2)\n",
    "    Z3 = tf.add(tf.matmul(W3,A2),b3)                       # Z3 = np.dot(W3,Z2) + b3\n",
    "\n",
    "    \n",
    "    \n",
    "    \n",
    "    return Z3"
   ]
  },
  {
   "cell_type": "code",
   "execution_count": 40,
   "metadata": {},
   "outputs": [
    {
     "name": "stdout",
     "output_type": "stream",
     "text": [
      "Z3 = Tensor(\"Add_2:0\", shape=(6, ?), dtype=float32)\n"
     ]
    }
   ],
   "source": [
    "tf.reset_default_graph()\n",
    "\n",
    "with tf.Session() as sess:\n",
    "    X, Y = create_placeholders(parametros_iniciales)\n",
    "    parameters = initialize_parameters(parametros_iniciales)\n",
    "    Z3 = forward_propagation(X, parameters)\n",
    "    print(\"Z3 = \" + str(Z3))"
   ]
  },
  {
   "cell_type": "code",
   "execution_count": 42,
   "metadata": {},
   "outputs": [
    {
     "name": "stdout",
     "output_type": "stream",
     "text": [
      "cost = Tensor(\"Mean:0\", shape=(), dtype=float32)\n"
     ]
    }
   ],
   "source": [
    "tf.reset_default_graph()\n",
    "\n",
    "with tf.Session() as sess:\n",
    "    X, Y = create_placeholders(parametros_iniciales)\n",
    "    parameters = initialize_parameters(parametros_iniciales)\n",
    "    Z3 = forward_propagation(X, parameters)\n",
    "    cost = compute_cost(Z3, Y)\n",
    "    print(\"cost = \" + str(cost))"
   ]
  },
  {
   "cell_type": "code",
   "execution_count": 47,
   "metadata": {},
   "outputs": [],
   "source": [
    "def model(X_train, Y_train, X_test, Y_test,parametros_iniciales, learning_rate = 0.0001,\n",
    "          num_epochs = 1500, minibatch_size = 32, print_cost = True):\n",
    "    \"\"\"\n",
    "    Implements a three-layer tensorflow neural network: LINEAR->RELU->LINEAR->RELU->LINEAR->SOFTMAX.\n",
    "    \n",
    "    Arguments:\n",
    "    X_train -- training set, of shape (input size = 12288, number of training examples = 1080)\n",
    "    Y_train -- test set, of shape (output size = 6, number of training examples = 1080)\n",
    "    X_test -- training set, of shape (input size = 12288, number of training examples = 120)\n",
    "    Y_test -- test set, of shape (output size = 6, number of test examples = 120)\n",
    "    learning_rate -- learning rate of the optimization\n",
    "    num_epochs -- number of epochs of the optimization loop\n",
    "    minibatch_size -- size of a minibatch\n",
    "    print_cost -- True to print the cost every 100 epochs\n",
    "    \n",
    "    Returns:\n",
    "    parameters -- parameters learnt by the model. They can then be used to predict.\n",
    "    \"\"\"\n",
    "    \n",
    "    ops.reset_default_graph()                         # to be able to rerun the model without overwriting tf variables\n",
    "    #tf.set_random_seed(1)                             # to keep consistent results\n",
    "    seed = 3                                          # to keep consistent results\n",
    "    n_x= parametros_iniciales[\"n_x\"]                          # (n_x: input size, m : number of examples in the train set)\n",
    "    n_y = parametros_iniciales[\"n_y\"]                            # n_y : output size\n",
    "    m=parametros_iniciales[\"m\"]\n",
    "    costs = []                                        # To keep track of the cost\n",
    "    \n",
    "    # Create Placeholders of shape (n_x, n_y)\n",
    "    X, Y = create_placeholders(parametros_iniciales)\n",
    "\n",
    "    # Initialize parameters\n",
    "    parameters = initialize_parameters(parametros_iniciales)\n",
    "    \n",
    "    # Forward propagation: Build the forward propagation in the tensorflow graph\n",
    "    Z3 = forward_propagation(X, parameters)\n",
    "    #print(Z3)\n",
    "    \n",
    "    # Cost function: Add cost function to tensorflow graph\n",
    "    cost = compute_cost(Z3, Y)\n",
    "    \n",
    "    # Backpropagation: Define the tensorflow optimizer. Use an AdamOptimizer.\n",
    "    optimizer = tf.train.AdamOptimizer(learning_rate).minimize(cost)\n",
    "    \n",
    "    # Initialize all the variables\n",
    "    init = tf.global_variables_initializer()\n",
    "    #print('Y_train.shape',Y_train.shape)\n",
    "    #print('X_train.shape',X_train.shape)\n",
    "\n",
    "    # Start the session to compute the tensorflow graph\n",
    "    with tf.Session() as sess:\n",
    "        \n",
    "        # Run the initialization\n",
    "        sess.run(init)\n",
    "        \n",
    "        # Do the training loop\n",
    "        for epoch in range(num_epochs):\n",
    "\n",
    "            epoch_cost = 0.                       # Defines a cost related to an epoch\n",
    "            num_minibatches = int(m / minibatch_size) # number of minibatches of size minibatch_size in the train set\n",
    "            seed = seed + 1\n",
    "            minibatches = random_mini_batches(X_train, Y_train, minibatch_size,seed)\n",
    "\n",
    "            for minibatch in minibatches:\n",
    "\n",
    "                # Select a minibatch\n",
    "                (minibatch_X, minibatch_Y) = minibatch\n",
    "                #print(minibatch_X.shape)\n",
    "                \n",
    "                # IMPORTANT: The line that runs the graph on a minibatch.\n",
    "                # Run the session to execute the \"optimizer\" and the \"cost\", the feedict should contain a minibatch for (X,Y).\n",
    "                _ , minibatch_cost = sess.run([optimizer, cost], feed_dict={X: minibatch_X, Y: minibatch_Y})\n",
    "                \n",
    "                epoch_cost += minibatch_cost / num_minibatches\n",
    "\n",
    "            # Print the cost every epoch\n",
    "            if print_cost == True and epoch % 100 == 0:\n",
    "                print (\"Cost after epoch %i: %f\" % (epoch, epoch_cost))\n",
    "            if print_cost == True and epoch % 5 == 0:\n",
    "                costs.append(epoch_cost)\n",
    "                \n",
    "        # plot the cost\n",
    "        plt.plot(np.squeeze(costs))\n",
    "        plt.ylabel('cost')\n",
    "        plt.xlabel('iterations (per tens)')\n",
    "        plt.title(\"Learning rate =\" + str(learning_rate))\n",
    "        plt.show()\n",
    "\n",
    "        # lets save the parameters in a variable\n",
    "        parameters = sess.run(parameters)\n",
    "        print (\"Parameters have been trained!\")\n",
    "\n",
    "        # Calculate the correct predictions\n",
    "        correct_prediction = tf.equal(tf.argmax(Z3), tf.argmax(Y))\n",
    "\n",
    "        # Calculate accuracy on the test set\n",
    "        accuracy = tf.reduce_mean(tf.cast(correct_prediction, \"float\"))\n",
    "\n",
    "        print (\"Train Accuracy:\", accuracy.eval({X: X_train, Y: Y_train}))\n",
    "        print (\"Test Accuracy:\", accuracy.eval({X: X_test, Y: Y_test}))\n",
    "        \n",
    "        return parameters"
   ]
  },
  {
   "cell_type": "code",
   "execution_count": 44,
   "metadata": {},
   "outputs": [
    {
     "name": "stdout",
     "output_type": "stream",
     "text": [
      "Cost after epoch 0: 1.888744\n",
      "Cost after epoch 100: 1.846065\n",
      "Cost after epoch 200: 1.846065\n",
      "Cost after epoch 300: 1.846064\n",
      "Cost after epoch 400: 1.846064\n"
     ]
    },
    {
     "data": {
      "image/png": "[encoded data removed]",
      "text/plain": [
       "<Figure size 432x288 with 1 Axes>"
      ]
     },
     "metadata": {},
     "output_type": "display_data"
    },
    {
     "name": "stdout",
     "output_type": "stream",
     "text": [
      "Parameters have been trained!\n",
      "Train Accuracy: 0.16666667\n",
      "Test Accuracy: 0.16666667\n"
     ]
    }
   ],
   "source": [
    "parameters = model(X_train, Y_train, X_test, Y_test, parametros_iniciales, num_epochs = 500, minibatch_size = 32)"
   ]
  },
  {
   "cell_type": "markdown",
   "metadata": {},
   "source": [
    "Utilizando exactamente los mismos modelos, nos ha pasado lo mismo.  \n",
    "Parece que converge de forma muy rapida hacia un numero en concreto y se queda allí.  \n",
    "Vamos a resestablecer el tema de los seeds a su estado original (como en el ejercicio de Andrew) para ver si el problema viene de allí."
   ]
  },
  {
   "cell_type": "code",
   "execution_count": 57,
   "metadata": {},
   "outputs": [
    {
     "name": "stdout",
     "output_type": "stream",
     "text": [
      "Cost after epoch 0: 1.855702\n",
      "Cost after epoch 100: 1.016458\n",
      "Cost after epoch 200: 0.733102\n"
     ]
    },
    {
     "data": {
      "image/png": "[encoded data removed]",
      "text/plain": [
       "<Figure size 432x288 with 1 Axes>"
      ]
     },
     "metadata": {},
     "output_type": "display_data"
    },
    {
     "name": "stdout",
     "output_type": "stream",
     "text": [
      "Parameters have been trained!\n",
      "Train Accuracy: 0.8277778\n",
      "Test Accuracy: 0.75\n"
     ]
    }
   ],
   "source": [
    "parameters = model(X_train, Y_train, X_test, Y_test, parametros_iniciales, num_epochs = 300, minibatch_size = 32)"
   ]
  },
  {
   "cell_type": "markdown",
   "metadata": {},
   "source": [
    "No he dejado que el modelo siga, solo he hecho 300 epochs, pero cuadra perfectamente."
   ]
  },
  {
   "cell_type": "markdown",
   "metadata": {},
   "source": [
    "PARECE QUE EL MODELO NO TIENE NINGÚN PROBLEMA...."
   ]
  },
  {
   "cell_type": "markdown",
   "metadata": {},
   "source": [
    "¿POR QUE SIGO TENINDO EXACTAMENTE EL MISMO ACCURACY?"
   ]
  }
 ],
 "metadata": {
  "kernelspec": {
   "display_name": "Python 3",
   "language": "python",
   "name": "python3"
  },
  "language_info": {
   "codemirror_mode": {
    "name": "ipython",
    "version": 3
   },
   "file_extension": ".py",
   "mimetype": "text/x-python",
   "name": "python",
   "nbconvert_exporter": "python",
   "pygments_lexer": "ipython3",
   "version": "3.6.4"
  }
 },
 "nbformat": 4,
 "nbformat_minor": 2
}
