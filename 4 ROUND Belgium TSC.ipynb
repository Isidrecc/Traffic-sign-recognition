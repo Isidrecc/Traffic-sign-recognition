{
 "cells": [
  {
   "cell_type": "markdown",
   "metadata": {},
   "source": [
    "# Traffic Sign Recogntion with TensorFlow Deep Learning,  \n",
    "# Waleed Abdulla 22/05/2017"
   ]
  },
  {
   "cell_type": "markdown",
   "metadata": {},
   "source": [
    "Última parte de la conferencia de Waleed Abdulla."
   ]
  },
  {
   "cell_type": "code",
   "execution_count": 1,
   "metadata": {},
   "outputs": [
    {
     "name": "stderr",
     "output_type": "stream",
     "text": [
      "D:\\ANACONDA\\envs\\tensorflow\\lib\\site-packages\\h5py\\__init__.py:36: FutureWarning: Conversion of the second argument of issubdtype from `float` to `np.floating` is deprecated. In future, it will be treated as `np.float64 == np.dtype(float).type`.\n",
      "  from ._conv import register_converters as _register_converters\n"
     ]
    }
   ],
   "source": [
    "import os\n",
    "import glob\n",
    "import time\n",
    "import skimage.data\n",
    "import skimage.transform\n",
    "#import sklearn.preprocessing\n",
    "import random\n",
    "import skimage.data\n",
    "import skimage.transform\n",
    "import matplotlib\n",
    "import matplotlib.pyplot as plt\n",
    "import numpy as np\n",
    "import tensorflow as tf\n",
    "from tensorflow.contrib import layers\n",
    "import pandas as pd\n",
    "import csv\n",
    "import math\n",
    "from IPython import display\n",
    "\n",
    "# Allow image embeding in notebook\n",
    "%matplotlib inline"
   ]
  },
  {
   "cell_type": "markdown",
   "metadata": {},
   "source": [
    "### Load Training and Test Data  \n",
    "This is straightforward, the load() function traverses the dataset directories and loads the images and labels. Since this dataset is small, I load the whole thing into RAM to keep things simple."
   ]
  },
  {
   "cell_type": "code",
   "execution_count": 2,
   "metadata": {},
   "outputs": [],
   "source": [
    "def load_data(data_dir, width, height):\n",
    "    directories = [d for d in os.listdir(data_dir) \n",
    "                 if os.path.isdir(os.path.join(data_dir, d))]\n",
    "\n",
    "    labels = []\n",
    "    images = []\n",
    "    for d in directories:\n",
    "        label_dir = os.path.join(data_dir, d)\n",
    "        file_names = [os.path.join(label_dir, f) \n",
    "                      for f in os.listdir(label_dir) if f.endswith(\".ppm\")]\n",
    "        for f in file_names:\n",
    "            labels.append(int(d))\n",
    "            images.append(skimage.transform.resize(skimage.data.imread(f), (width, height)))\n",
    "    \n",
    "    labels=np.array(labels)\n",
    "    images=np.array(images)\n",
    "    \n",
    "    return images, labels"
   ]
  },
  {
   "cell_type": "code",
   "execution_count": 3,
   "metadata": {
    "scrolled": true
   },
   "outputs": [
    {
     "name": "stderr",
     "output_type": "stream",
     "text": [
      "D:\\ANACONDA\\envs\\tensorflow\\lib\\site-packages\\skimage\\transform\\_warps.py:84: UserWarning: The default mode, 'constant', will be changed to 'reflect' in skimage 0.15.\n",
      "  warn(\"The default mode, 'constant', will be changed to 'reflect' in \"\n"
     ]
    }
   ],
   "source": [
    "train_data_dir = \".\\\\data\\\\Training\"            \n",
    "X_train_orig, Y_train_orig = load_data(train_data_dir,32,32)"
   ]
  },
  {
   "cell_type": "code",
   "execution_count": 4,
   "metadata": {},
   "outputs": [
    {
     "name": "stderr",
     "output_type": "stream",
     "text": [
      "D:\\ANACONDA\\envs\\tensorflow\\lib\\site-packages\\skimage\\transform\\_warps.py:84: UserWarning: The default mode, 'constant', will be changed to 'reflect' in skimage 0.15.\n",
      "  warn(\"The default mode, 'constant', will be changed to 'reflect' in \"\n"
     ]
    }
   ],
   "source": [
    "test_data_dir = \".\\\\data\\\\Testing\" \n",
    "X_test_orig, Y_test_orig = load_data(test_data_dir,32,32)"
   ]
  },
  {
   "cell_type": "code",
   "execution_count": 22,
   "metadata": {},
   "outputs": [],
   "source": [
    "# TensorFlow doesn't have a native implementation of Leaky-ReLU\n",
    "# that I know of. But it's simple enough to add it.\n",
    "def lrelu(x):\n",
    "    return tf.maximum(0.01*x,x)"
   ]
  },
  {
   "cell_type": "markdown",
   "metadata": {},
   "source": [
    "## Model 4 Convolutional Layers - Accuracy 96%"
   ]
  },
  {
   "cell_type": "code",
   "execution_count": 94,
   "metadata": {},
   "outputs": [],
   "source": [
    "class Model4():\n",
    "    def conv(self, input, num_outputs, name=None):\n",
    "        return layers.convolution2d(\n",
    "            input, num_outputs=num_outputs, kernel_size=(5,5), stride=(1,1),\n",
    "            padding='SAME', activation_fn=lrelu, normalizer_fn=layers.batch_norm\n",
    "            )\n",
    "    def pool(self, input):\n",
    "        return layers.max_pool2d(input, kernel_size=(2,2),\n",
    "                                stride=(2,2), padding='SAME')\n",
    "    def __init__(self):\n",
    "        #History of training state as tuples (step, loss, accuracy, training loss, time)\n",
    "        self.train_log =[]\n",
    "        self.train_time=[]\n",
    "        \n",
    "        self.graph = tf.Graph()\n",
    "        with self.graph.as_default():\n",
    "            #Global step counter\n",
    "            self.global_step = tf.Variable(0, trainable=False, name='global_step')\n",
    "            #Placeholders\n",
    "            self.images=tf.placeholder(tf.float32, (None, 32,32,3), name='images')\n",
    "            self.labels=tf.placeholder(tf.int32, (None), name='labels')\n",
    "            #Block input shape [32,32,3], output shape [16,16,16]\n",
    "            self.conv1 = self.conv(self.images,8)\n",
    "            self.pool1=self.pool(self.conv1)\n",
    "            #Block input shape: [16,16,16], output shape [8,8,32]\n",
    "            self.conv2=self.conv(self.pool1,12)\n",
    "            self.pool2=self.pool(self.conv2)\n",
    "            #Block input shape: [8,8,32], ouutput shpae [4,4,64]\n",
    "            self.conv3=self.conv(self.pool2,16)\n",
    "            self.pool3=self.pool(self.conv3)\n",
    "            #Fully connected layer\n",
    "            self.flat=layers.flatten(self.pool3)\n",
    "#            self.hl=layers_fully:connected(sefl.flat,200,lrelu)\n",
    "            #self.shapeflat=self.flat.shape\n",
    "            self.logits = layers.fully_connected(self.flat,62,lrelu)\n",
    "            #Convert one hot vector to label index\n",
    "            self.predicted_labels=tf.argmax(self.logits,1)\n",
    "            #Loss\n",
    "            self.loss = tf.reduce_mean(tf.nn.sparse_softmax_cross_entropy_with_logits(\n",
    "                    logits=self.logits, labels=self.labels))\n",
    "            #Training OP\n",
    "            self.train=tf.train.AdamOptimizer(learning_rate=0.001)\\\n",
    "                                .minimize(self.loss, global_step=self.global_step)\n",
    "            #Initialization Op\n",
    "            self.init=tf.global_variables_initializer()\n",
    "            #Create session\n",
    "            self.session=tf.Session()\n",
    "            #Run initialization Op\n",
    "            self.session.run(self.init)"
   ]
  },
  {
   "cell_type": "code",
   "execution_count": 95,
   "metadata": {},
   "outputs": [],
   "source": [
    "m4 = Model4()"
   ]
  },
  {
   "cell_type": "markdown",
   "metadata": {},
   "source": [
    "## <font color='red'>LOS OUTPUTS ESTÁN MAL CALCULADOS CREO <font color='red'> ## "
   ]
  },
  {
   "cell_type": "markdown",
   "metadata": {},
   "source": [
    "At this point, the network is starting to get too big to train comfortably on a CPU. This is a good time to switch to a copmuter with GPU support. I use P2 instances on EC2"
   ]
  },
  {
   "cell_type": "markdown",
   "metadata": {},
   "source": [
    "Since things are getting serious, let's upgrade the training code as well. I'll make thes two improvemets.\n",
    "+ 1. Track the training time of each step\n",
    "+ 2. Visualize the accuracy and loss values in a graph"
   ]
  },
  {
   "cell_type": "code",
   "execution_count": 97,
   "metadata": {},
   "outputs": [],
   "source": [
    "def train_graph(model, train_images, train_labels, val_images, Val_labels, train_count):\n",
    "    t_start=time.time()\n",
    "    #Training loop\n",
    "    for i in range(1, train_count+1):\n",
    "        ##??? improve picking batches\n",
    "        #COGEMOS UN PEQUEÑO BATCH DE 100 IMAGENES RANDOM\n",
    "        indexes = np.random.choice(np.arange(train_images.shape[0]),100,replace=False)\n",
    "        batch_images=train_images[indexes]\n",
    "        batch_labels=train_labels[indexes]\n",
    "        #ENTRENAMOS ESTE BATCH CON NUESTRO MODELO\n",
    "        _, loss = model.session.run([model.train, model.loss], {\n",
    "            model.images:batch_images,\n",
    "            model.labels:batch_labels,\n",
    "            })\n",
    "        # Evaluate\n",
    "        if i % 50 == 0:\n",
    "            evaluate_graph(model, batch_images, batch_labels, val_images, Val_labels, t_start)\n",
    "    #Final evalution\n",
    "    evaluate_graph(model, batch_images, batch_labels, val_images, Val_labels, t_start)\n",
    "    #shape = model.session.run([model.shapeflat], {\n",
    "    #        model.images:batch_images,\n",
    "    #        model.labels:batch_labels,\n",
    "    #        })\n",
    "    #print(shape)\n",
    "\n",
    "def evaluate_graph(model, train_images, train_labels, val_images, val_labels, training_time):\n",
    "    #Run predicionts against a batch of the training set\n",
    "    train_predicted, train_loss, step = model.session.run(\n",
    "        [model.predicted_labels, model.loss, model.global_step],\n",
    "        {model.images:train_images, model.labels:train_labels})\n",
    "    \n",
    "    #Run predictions against the full test set\n",
    "    val_predicted, val_loss = model.session.run(\n",
    "            [model.predicted_labels, model.loss],\n",
    "            {model.images: val_images, model.labels:val_labels})\n",
    "    \n",
    "    #Calculate accuracy\n",
    "    train_accuracy=np.sum(train_labels == train_predicted) / train_labels.shape[0]\n",
    "    val_accuracy = np.sum(val_labels == val_predicted) / val_labels.shape[0]\n",
    "    #Append to train log\n",
    "    model.train_log.append((step, train_loss, train_accuracy, val_loss, val_accuracy, training_time))\n",
    "    #Plot\n",
    "    draw_graph(model.train_log)\n",
    "\n",
    "def draw_graph(logs):\n",
    "    #Expand log tuples to lists\n",
    "    steps, train_losses, train_accuracies, val_losses, val_accuracies, times = zip(*logs)\n",
    "    #Clear output\n",
    "    display.clear_output(wait=True)\n",
    "    fig, (ax1,ax2) = plt.subplots(2,sharex=True,figsize=(8,6))\n",
    "    #Graph 1: Accuracies\n",
    "    ax1.set_title(\"Step: {}     Training Time:  {:.0f}  seconds\\n\"\\\n",
    "                  \"Training Accuracy: {:.3f}    Validation Accuracy: {:.3f}\"\\\n",
    "                  .format(steps[-1], times[-1], train_accuracies[-1], val_accuracies[-1]), \n",
    "                  fontsize=5)\n",
    "    ax1.plot(steps, train_accuracies, label=\"Training Accuray\")\n",
    "    ax1.plot(steps, val_accuracies, label=\"Validation Accuracy\")\n",
    "    ax1.set_ylabel(\"Accuracy\")\n",
    "    ax1.legend(fontsize=8, loc=\"lower right\")\n",
    "#    ax1.set_y1(0,1.1)\n",
    "    #Graph 2 : Losses\n",
    "    ax2.set_title(\"Training loss: {:.3f} Validation Loss: {:.3}\"\\\n",
    "                 .format(train_losses[-1],val_losses[-1]),fontsize=5)\n",
    "    ax2.set_yscale('log')\n",
    "    ax2.plot(steps, train_losses, label=\"Training loss\")\n",
    "    ax2.plot(steps,val_losses, label=\"Validation Loss\")\n",
    "    ax2.set_ylabel(\"Loss\")\n",
    "    ax2.legend(fontsize=8, loc='lower left')\n",
    "    ax2.set_xlabel(\"Steps\")\n",
    "    _ = plt.show()"
   ]
  },
  {
   "cell_type": "code",
   "execution_count": 83,
   "metadata": {
    "scrolled": false
   },
   "outputs": [
    {
     "data": {
      "image/png": "[encoded data removed]",
      "text/plain": [
       "<Figure size 576x432 with 2 Axes>"
      ]
     },
     "metadata": {},
     "output_type": "display_data"
    }
   ],
   "source": [
    "train_graph(m4, X_train_orig, Y_train_orig, X_test_orig, Y_test_orig, 2000)"
   ]
  },
  {
   "cell_type": "code",
   "execution_count": 84,
   "metadata": {
    "scrolled": true
   },
   "outputs": [
    {
     "name": "stdout",
     "output_type": "stream",
     "text": [
      "Conv/weights:0 (5, 5, 3, 8)\n",
      "Conv/BatchNorm/beta:0 (8,)\n",
      "Conv_1/weights:0 (5, 5, 8, 12)\n",
      "Conv_1/BatchNorm/beta:0 (12,)\n",
      "Conv_2/weights:0 (5, 5, 12, 16)\n",
      "Conv_2/BatchNorm/beta:0 (16,)\n",
      "fully_connected/weights:0 (256, 62)\n",
      "fully_connected/biases:0 (62,)\n"
     ]
    }
   ],
   "source": [
    "# Loop trough the graph and print the names and shapes of all trainable variables\n",
    "with m4.graph.as_default():\n",
    "    for v in tf.trainable_variables():\n",
    "        print(v.name, v.get_shape())"
   ]
  },
  {
   "cell_type": "markdown",
   "metadata": {},
   "source": [
    "LA FULLY CONNNECTED TIENE 256,62 ESO QUIERE DECIR QUE EL INPUT ES DE 256 Y EL OUTPUT ES DE 62.  \n",
    "El output nos cuadra, es igual al número de categorias.  \n",
    "El input no parece que cuadre con lo que anota W.A. en el código.  \n",
    "En el código pone que el output de la última pool layer es de 4x4x64=1024 y debería ser 256  \n",
    "Lo que si podría ser es que el output fuera de 4x4x16 = 256  \n",
    "Vamos a calcular una por una las capas para ver que esta pasando"
   ]
  },
  {
   "cell_type": "markdown",
   "metadata": {},
   "source": [
    "Efectivamente parece que los outputs estaban mal calculados.  \n",
    "+ IMÁGENES [32,32,3]\n",
    "+ LAYER 1  \n",
    "    - 8*CONV2D[5,5] S=1, P=0 --> {32-5+1=28} [28,28,8]  \n",
    "    - POOL MAX[2,2] S=2, P=0 --> {(28-2)/2+1} [14,14,8]  \n",
    "    - PESOS  [5,5,3,8] --> 600\n",
    "+ LAYER 2  \n",
    "    - 12*CONV2D[5,5] S=1, P=0 --> {14-5+1=9] [9,9,12]  \n",
    "    - POOL MAX[2,2] S=2, P=0 --> {(9-2)/2+1] [5,5,12]\n",
    "    - PESOS [5,5,8,12] --> 2400\n",
    "+ LAYER 3  \n",
    "    - 16*CONV2D[5,5] S=1, P=0 --> {5-5+1=1] [1,1,16]\n",
    "    - POOL MAX[2,2] S=2, P=0 --> {(1-2)/2+1] [4,4,16]\n",
    "    - PESOS [5,5,12,16] --> 4800\n",
    "+ LAYER 4\n",
    "    - FLATEN LAYER (3x3x16) [1,144]\n",
    "    "
   ]
  },
  {
   "cell_type": "code",
   "execution_count": null,
   "metadata": {},
   "outputs": [],
   "source": []
  }
 ],
 "metadata": {
  "kernelspec": {
   "display_name": "Python 3",
   "language": "python",
   "name": "python3"
  },
  "language_info": {
   "codemirror_mode": {
    "name": "ipython",
    "version": 3
   },
   "file_extension": ".py",
   "mimetype": "text/x-python",
   "name": "python",
   "nbconvert_exporter": "python",
   "pygments_lexer": "ipython3",
   "version": "3.6.4"
  }
 },
 "nbformat": 4,
 "nbformat_minor": 2
}
